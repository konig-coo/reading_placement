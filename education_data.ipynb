{
 "cells": [
  {
   "cell_type": "code",
   "execution_count": 2,
   "metadata": {},
   "outputs": [],
   "source": [
    "library(ISLR)\n",
    "library(dplyr)\n",
    "library(lmridge)\n",
    "library(leaps)\n",
    "library(glmnet)\n",
    "library(DAAG)\n",
    "library(lmvar)\n",
    "library(MASS)"
   ]
  },
  {
   "cell_type": "markdown",
   "metadata": {},
   "source": [
    "Importing GEORGIA education data..."
   ]
  },
  {
   "cell_type": "code",
   "execution_count": 3,
   "metadata": {},
   "outputs": [],
   "source": [
    "# Import\n",
    "k_read = read.csv(\"kread.csv\")"
   ]
  },
  {
   "cell_type": "code",
   "execution_count": 4,
   "metadata": {},
   "outputs": [],
   "source": [
    "#convert Farm to binary\n",
    "k_read = cbind(k_read, 'FARM_BIN' = as.integer(k_read[,'FARM']=='Y'))\n",
    "k_read = subset(k_read, select = -c(FARM))"
   ]
  },
  {
   "cell_type": "markdown",
   "metadata": {},
   "source": [
    "## Fill in missing values somehow"
   ]
  },
  {
   "cell_type": "markdown",
   "metadata": {},
   "source": [
    "We need to fill in missing values, so let's clean the NA values from the data first."
   ]
  },
  {
   "cell_type": "code",
   "execution_count": 5,
   "metadata": {},
   "outputs": [],
   "source": [
    "cleaned_read = k_read[complete.cases(k_read),]\n",
    "cleaned_read = subset(cleaned_read, select = -c(ID.))\n",
    "\n",
    "##get rows which correspond to NA vals\n",
    "\n",
    "R_na = subset(k_read,is.na(R.SCORE))\n",
    "L_na = subset(k_read,is.na(L.SCORE))\n",
    "\n",
    "#drop columsn with NAs to create test set\n",
    "\n",
    "R_test = subset(R_na, select= -c(R.SCORE,ID.))\n",
    "L_test = subset(L_na, select = -c(L.SCORE,ID.))\n",
    "\n",
    "##Use R Score, DIEBLS, INP, FARM_BIN to predict L Score\n",
    "##Use L Score, DIEBELS, INP, FARM_BIN to predict R score"
   ]
  },
  {
   "cell_type": "markdown",
   "metadata": {},
   "source": [
    "Create a train/test set since we want to figure out if an lm model will be any good in predicting L.SCORE/R.SCORE. We are doing this since we don't have any actualy groundtruth labels for the NA values, and want to see how good this model is."
   ]
  },
  {
   "cell_type": "code",
   "execution_count": 6,
   "metadata": {},
   "outputs": [],
   "source": [
    "\n",
    "num_rows = c(1:nrow(cleaned_read)) ##CONSTANT\n",
    "set.seed(0)\n",
    "sampled = sample(num_rows) \n",
    "test_size = .20*nrow(cleaned_read) ##CONSTANT\n",
    "train_size = nrow(cleaned_read)-test_size ##CONSTANT\n",
    "train_index = sampled[1:train_size] ##CONSTANT\n",
    "test_index = sampled[(train_size + 1): nrow(cleaned_read)] ##CONSTANT\n",
    "\n",
    "train_set = cleaned_read[train_index,]\n",
    "test_set = cleaned_read[test_index,]\n"
   ]
  },
  {
   "cell_type": "code",
   "execution_count": 7,
   "metadata": {},
   "outputs": [
    {
     "data": {
      "text/html": [
       "<table>\n",
       "<caption>A data.frame: 136 × 5</caption>\n",
       "<thead>\n",
       "\t<tr><th></th><th scope=col>R.SCORE</th><th scope=col>L.SCORE</th><th scope=col>DIEBLS</th><th scope=col>INP</th><th scope=col>FARM_BIN</th></tr>\n",
       "\t<tr><th></th><th scope=col>&lt;int&gt;</th><th scope=col>&lt;int&gt;</th><th scope=col>&lt;int&gt;</th><th scope=col>&lt;int&gt;</th><th scope=col>&lt;int&gt;</th></tr>\n",
       "</thead>\n",
       "<tbody>\n",
       "\t<tr><th scope=row>157</th><td>14</td><td>18</td><td>33</td><td>0</td><td>1</td></tr>\n",
       "\t<tr><th scope=row>78</th><td>17</td><td>18</td><td>16</td><td>0</td><td>0</td></tr>\n",
       "\t<tr><th scope=row>182</th><td>20</td><td>21</td><td>42</td><td>0</td><td>0</td></tr>\n",
       "\t<tr><th scope=row>144</th><td>18</td><td>20</td><td>30</td><td>0</td><td>1</td></tr>\n",
       "\t<tr><th scope=row>177</th><td>20</td><td>20</td><td>38</td><td>0</td><td>0</td></tr>\n",
       "\t<tr><th scope=row>50</th><td>14</td><td>10</td><td> 8</td><td>1</td><td>1</td></tr>\n",
       "\t<tr><th scope=row>15</th><td> 9</td><td>11</td><td> 0</td><td>1</td><td>0</td></tr>\n",
       "\t<tr><th scope=row>61</th><td>14</td><td> 9</td><td>12</td><td>1</td><td>0</td></tr>\n",
       "\t<tr><th scope=row>97</th><td>16</td><td>21</td><td>20</td><td>0</td><td>0</td></tr>\n",
       "\t<tr><th scope=row>22</th><td>16</td><td>13</td><td> 0</td><td>1</td><td>0</td></tr>\n",
       "\t<tr><th scope=row>118</th><td>15</td><td>19</td><td>24</td><td>0</td><td>1</td></tr>\n",
       "\t<tr><th scope=row>85</th><td>12</td><td>13</td><td>18</td><td>0</td><td>0</td></tr>\n",
       "\t<tr><th scope=row>8</th><td>14</td><td> 8</td><td> 0</td><td>1</td><td>1</td></tr>\n",
       "\t<tr><th scope=row>84</th><td>19</td><td>21</td><td>17</td><td>0</td><td>0</td></tr>\n",
       "\t<tr><th scope=row>90</th><td>15</td><td>17</td><td>19</td><td>0</td><td>1</td></tr>\n",
       "\t<tr><th scope=row>44</th><td>16</td><td>14</td><td> 6</td><td>1</td><td>1</td></tr>\n",
       "\t<tr><th scope=row>117</th><td>21</td><td>17</td><td>24</td><td>0</td><td>0</td></tr>\n",
       "\t<tr><th scope=row>124</th><td>17</td><td>16</td><td>26</td><td>0</td><td>0</td></tr>\n",
       "\t<tr><th scope=row>41</th><td>16</td><td>17</td><td> 4</td><td>1</td><td>0</td></tr>\n",
       "\t<tr><th scope=row>175</th><td>20</td><td>16</td><td>38</td><td>0</td><td>0</td></tr>\n",
       "\t<tr><th scope=row>141</th><td>17</td><td>16</td><td>30</td><td>0</td><td>1</td></tr>\n",
       "\t<tr><th scope=row>101</th><td>20</td><td>19</td><td>21</td><td>0</td><td>0</td></tr>\n",
       "\t<tr><th scope=row>40</th><td>12</td><td>14</td><td> 4</td><td>1</td><td>1</td></tr>\n",
       "\t<tr><th scope=row>96</th><td>20</td><td>20</td><td>20</td><td>0</td><td>0</td></tr>\n",
       "\t<tr><th scope=row>81</th><td>15</td><td>16</td><td>17</td><td>0</td><td>1</td></tr>\n",
       "\t<tr><th scope=row>174</th><td>20</td><td>20</td><td>37</td><td>0</td><td>0</td></tr>\n",
       "\t<tr><th scope=row>49</th><td>13</td><td> 8</td><td> 8</td><td>1</td><td>1</td></tr>\n",
       "\t<tr><th scope=row>125</th><td>16</td><td>17</td><td>26</td><td>0</td><td>1</td></tr>\n",
       "\t<tr><th scope=row>21</th><td>13</td><td>13</td><td> 0</td><td>1</td><td>1</td></tr>\n",
       "\t<tr><th scope=row>51</th><td>11</td><td>11</td><td> 8</td><td>1</td><td>1</td></tr>\n",
       "\t<tr><th scope=row>...</th><td>...</td><td>...</td><td>...</td><td>...</td><td>...</td></tr>\n",
       "\t<tr><th scope=row>183</th><td>19</td><td>19</td><td>44</td><td>0</td><td>0</td></tr>\n",
       "\t<tr><th scope=row>168</th><td>20</td><td>20</td><td>35</td><td>0</td><td>1</td></tr>\n",
       "\t<tr><th scope=row>7</th><td>19</td><td> 7</td><td> 0</td><td>1</td><td>1</td></tr>\n",
       "\t<tr><th scope=row>110</th><td>19</td><td>21</td><td>22</td><td>0</td><td>1</td></tr>\n",
       "\t<tr><th scope=row>62</th><td>16</td><td>13</td><td>12</td><td>1</td><td>0</td></tr>\n",
       "\t<tr><th scope=row>48</th><td>12</td><td>16</td><td> 7</td><td>1</td><td>0</td></tr>\n",
       "\t<tr><th scope=row>170</th><td>18</td><td>20</td><td>36</td><td>0</td><td>0</td></tr>\n",
       "\t<tr><th scope=row>53</th><td>14</td><td>13</td><td> 8</td><td>1</td><td>0</td></tr>\n",
       "\t<tr><th scope=row>58</th><td>14</td><td>18</td><td>10</td><td>1</td><td>1</td></tr>\n",
       "\t<tr><th scope=row>3</th><td> 7</td><td> 5</td><td> 0</td><td>1</td><td>1</td></tr>\n",
       "\t<tr><th scope=row>73</th><td>15</td><td>13</td><td>15</td><td>0</td><td>0</td></tr>\n",
       "\t<tr><th scope=row>184</th><td>19</td><td>20</td><td>50</td><td>0</td><td>0</td></tr>\n",
       "\t<tr><th scope=row>173</th><td>19</td><td>19</td><td>37</td><td>0</td><td>1</td></tr>\n",
       "\t<tr><th scope=row>67</th><td>15</td><td>14</td><td>13</td><td>1</td><td>0</td></tr>\n",
       "\t<tr><th scope=row>134</th><td>15</td><td>19</td><td>28</td><td>0</td><td>0</td></tr>\n",
       "\t<tr><th scope=row>156</th><td>20</td><td>21</td><td>32</td><td>0</td><td>0</td></tr>\n",
       "\t<tr><th scope=row>92</th><td>16</td><td>18</td><td>19</td><td>0</td><td>0</td></tr>\n",
       "\t<tr><th scope=row>55</th><td> 0</td><td>16</td><td> 8</td><td>1</td><td>1</td></tr>\n",
       "\t<tr><th scope=row>28</th><td>18</td><td>20</td><td> 0</td><td>1</td><td>1</td></tr>\n",
       "\t<tr><th scope=row>98</th><td>10</td><td>13</td><td>21</td><td>0</td><td>1</td></tr>\n",
       "\t<tr><th scope=row>185</th><td>20</td><td>20</td><td>52</td><td>0</td><td>1</td></tr>\n",
       "\t<tr><th scope=row>82</th><td>16</td><td>16</td><td>17</td><td>0</td><td>0</td></tr>\n",
       "\t<tr><th scope=row>17</th><td>17</td><td>11</td><td> 0</td><td>1</td><td>1</td></tr>\n",
       "\t<tr><th scope=row>20</th><td> 8</td><td>12</td><td> 0</td><td>1</td><td>0</td></tr>\n",
       "\t<tr><th scope=row>43</th><td>13</td><td>12</td><td> 5</td><td>1</td><td>1</td></tr>\n",
       "\t<tr><th scope=row>143</th><td>18</td><td>19</td><td>30</td><td>0</td><td>1</td></tr>\n",
       "\t<tr><th scope=row>76</th><td>18</td><td>17</td><td>16</td><td>0</td><td>1</td></tr>\n",
       "\t<tr><th scope=row>113</th><td>17</td><td>19</td><td>23</td><td>0</td><td>0</td></tr>\n",
       "\t<tr><th scope=row>171</th><td>20</td><td>20</td><td>36</td><td>0</td><td>0</td></tr>\n",
       "\t<tr><th scope=row>127</th><td>15</td><td>18</td><td>26</td><td>0</td><td>0</td></tr>\n",
       "</tbody>\n",
       "</table>\n"
      ],
      "text/latex": [
       "A data.frame: 136 × 5\n",
       "\\begin{tabular}{r|lllll}\n",
       "  & R.SCORE & L.SCORE & DIEBLS & INP & FARM\\_BIN\\\\\n",
       "  & <int> & <int> & <int> & <int> & <int>\\\\\n",
       "\\hline\n",
       "\t157 & 14 & 18 & 33 & 0 & 1\\\\\n",
       "\t78 & 17 & 18 & 16 & 0 & 0\\\\\n",
       "\t182 & 20 & 21 & 42 & 0 & 0\\\\\n",
       "\t144 & 18 & 20 & 30 & 0 & 1\\\\\n",
       "\t177 & 20 & 20 & 38 & 0 & 0\\\\\n",
       "\t50 & 14 & 10 &  8 & 1 & 1\\\\\n",
       "\t15 &  9 & 11 &  0 & 1 & 0\\\\\n",
       "\t61 & 14 &  9 & 12 & 1 & 0\\\\\n",
       "\t97 & 16 & 21 & 20 & 0 & 0\\\\\n",
       "\t22 & 16 & 13 &  0 & 1 & 0\\\\\n",
       "\t118 & 15 & 19 & 24 & 0 & 1\\\\\n",
       "\t85 & 12 & 13 & 18 & 0 & 0\\\\\n",
       "\t8 & 14 &  8 &  0 & 1 & 1\\\\\n",
       "\t84 & 19 & 21 & 17 & 0 & 0\\\\\n",
       "\t90 & 15 & 17 & 19 & 0 & 1\\\\\n",
       "\t44 & 16 & 14 &  6 & 1 & 1\\\\\n",
       "\t117 & 21 & 17 & 24 & 0 & 0\\\\\n",
       "\t124 & 17 & 16 & 26 & 0 & 0\\\\\n",
       "\t41 & 16 & 17 &  4 & 1 & 0\\\\\n",
       "\t175 & 20 & 16 & 38 & 0 & 0\\\\\n",
       "\t141 & 17 & 16 & 30 & 0 & 1\\\\\n",
       "\t101 & 20 & 19 & 21 & 0 & 0\\\\\n",
       "\t40 & 12 & 14 &  4 & 1 & 1\\\\\n",
       "\t96 & 20 & 20 & 20 & 0 & 0\\\\\n",
       "\t81 & 15 & 16 & 17 & 0 & 1\\\\\n",
       "\t174 & 20 & 20 & 37 & 0 & 0\\\\\n",
       "\t49 & 13 &  8 &  8 & 1 & 1\\\\\n",
       "\t125 & 16 & 17 & 26 & 0 & 1\\\\\n",
       "\t21 & 13 & 13 &  0 & 1 & 1\\\\\n",
       "\t51 & 11 & 11 &  8 & 1 & 1\\\\\n",
       "\t... & ... & ... & ... & ... & ...\\\\\n",
       "\t183 & 19 & 19 & 44 & 0 & 0\\\\\n",
       "\t168 & 20 & 20 & 35 & 0 & 1\\\\\n",
       "\t7 & 19 &  7 &  0 & 1 & 1\\\\\n",
       "\t110 & 19 & 21 & 22 & 0 & 1\\\\\n",
       "\t62 & 16 & 13 & 12 & 1 & 0\\\\\n",
       "\t48 & 12 & 16 &  7 & 1 & 0\\\\\n",
       "\t170 & 18 & 20 & 36 & 0 & 0\\\\\n",
       "\t53 & 14 & 13 &  8 & 1 & 0\\\\\n",
       "\t58 & 14 & 18 & 10 & 1 & 1\\\\\n",
       "\t3 &  7 &  5 &  0 & 1 & 1\\\\\n",
       "\t73 & 15 & 13 & 15 & 0 & 0\\\\\n",
       "\t184 & 19 & 20 & 50 & 0 & 0\\\\\n",
       "\t173 & 19 & 19 & 37 & 0 & 1\\\\\n",
       "\t67 & 15 & 14 & 13 & 1 & 0\\\\\n",
       "\t134 & 15 & 19 & 28 & 0 & 0\\\\\n",
       "\t156 & 20 & 21 & 32 & 0 & 0\\\\\n",
       "\t92 & 16 & 18 & 19 & 0 & 0\\\\\n",
       "\t55 &  0 & 16 &  8 & 1 & 1\\\\\n",
       "\t28 & 18 & 20 &  0 & 1 & 1\\\\\n",
       "\t98 & 10 & 13 & 21 & 0 & 1\\\\\n",
       "\t185 & 20 & 20 & 52 & 0 & 1\\\\\n",
       "\t82 & 16 & 16 & 17 & 0 & 0\\\\\n",
       "\t17 & 17 & 11 &  0 & 1 & 1\\\\\n",
       "\t20 &  8 & 12 &  0 & 1 & 0\\\\\n",
       "\t43 & 13 & 12 &  5 & 1 & 1\\\\\n",
       "\t143 & 18 & 19 & 30 & 0 & 1\\\\\n",
       "\t76 & 18 & 17 & 16 & 0 & 1\\\\\n",
       "\t113 & 17 & 19 & 23 & 0 & 0\\\\\n",
       "\t171 & 20 & 20 & 36 & 0 & 0\\\\\n",
       "\t127 & 15 & 18 & 26 & 0 & 0\\\\\n",
       "\\end{tabular}\n"
      ],
      "text/markdown": [
       "\n",
       "A data.frame: 136 × 5\n",
       "\n",
       "| <!--/--> | R.SCORE &lt;int&gt; | L.SCORE &lt;int&gt; | DIEBLS &lt;int&gt; | INP &lt;int&gt; | FARM_BIN &lt;int&gt; |\n",
       "|---|---|---|---|---|---|\n",
       "| 157 | 14 | 18 | 33 | 0 | 1 |\n",
       "| 78 | 17 | 18 | 16 | 0 | 0 |\n",
       "| 182 | 20 | 21 | 42 | 0 | 0 |\n",
       "| 144 | 18 | 20 | 30 | 0 | 1 |\n",
       "| 177 | 20 | 20 | 38 | 0 | 0 |\n",
       "| 50 | 14 | 10 |  8 | 1 | 1 |\n",
       "| 15 |  9 | 11 |  0 | 1 | 0 |\n",
       "| 61 | 14 |  9 | 12 | 1 | 0 |\n",
       "| 97 | 16 | 21 | 20 | 0 | 0 |\n",
       "| 22 | 16 | 13 |  0 | 1 | 0 |\n",
       "| 118 | 15 | 19 | 24 | 0 | 1 |\n",
       "| 85 | 12 | 13 | 18 | 0 | 0 |\n",
       "| 8 | 14 |  8 |  0 | 1 | 1 |\n",
       "| 84 | 19 | 21 | 17 | 0 | 0 |\n",
       "| 90 | 15 | 17 | 19 | 0 | 1 |\n",
       "| 44 | 16 | 14 |  6 | 1 | 1 |\n",
       "| 117 | 21 | 17 | 24 | 0 | 0 |\n",
       "| 124 | 17 | 16 | 26 | 0 | 0 |\n",
       "| 41 | 16 | 17 |  4 | 1 | 0 |\n",
       "| 175 | 20 | 16 | 38 | 0 | 0 |\n",
       "| 141 | 17 | 16 | 30 | 0 | 1 |\n",
       "| 101 | 20 | 19 | 21 | 0 | 0 |\n",
       "| 40 | 12 | 14 |  4 | 1 | 1 |\n",
       "| 96 | 20 | 20 | 20 | 0 | 0 |\n",
       "| 81 | 15 | 16 | 17 | 0 | 1 |\n",
       "| 174 | 20 | 20 | 37 | 0 | 0 |\n",
       "| 49 | 13 |  8 |  8 | 1 | 1 |\n",
       "| 125 | 16 | 17 | 26 | 0 | 1 |\n",
       "| 21 | 13 | 13 |  0 | 1 | 1 |\n",
       "| 51 | 11 | 11 |  8 | 1 | 1 |\n",
       "| ... | ... | ... | ... | ... | ... |\n",
       "| 183 | 19 | 19 | 44 | 0 | 0 |\n",
       "| 168 | 20 | 20 | 35 | 0 | 1 |\n",
       "| 7 | 19 |  7 |  0 | 1 | 1 |\n",
       "| 110 | 19 | 21 | 22 | 0 | 1 |\n",
       "| 62 | 16 | 13 | 12 | 1 | 0 |\n",
       "| 48 | 12 | 16 |  7 | 1 | 0 |\n",
       "| 170 | 18 | 20 | 36 | 0 | 0 |\n",
       "| 53 | 14 | 13 |  8 | 1 | 0 |\n",
       "| 58 | 14 | 18 | 10 | 1 | 1 |\n",
       "| 3 |  7 |  5 |  0 | 1 | 1 |\n",
       "| 73 | 15 | 13 | 15 | 0 | 0 |\n",
       "| 184 | 19 | 20 | 50 | 0 | 0 |\n",
       "| 173 | 19 | 19 | 37 | 0 | 1 |\n",
       "| 67 | 15 | 14 | 13 | 1 | 0 |\n",
       "| 134 | 15 | 19 | 28 | 0 | 0 |\n",
       "| 156 | 20 | 21 | 32 | 0 | 0 |\n",
       "| 92 | 16 | 18 | 19 | 0 | 0 |\n",
       "| 55 |  0 | 16 |  8 | 1 | 1 |\n",
       "| 28 | 18 | 20 |  0 | 1 | 1 |\n",
       "| 98 | 10 | 13 | 21 | 0 | 1 |\n",
       "| 185 | 20 | 20 | 52 | 0 | 1 |\n",
       "| 82 | 16 | 16 | 17 | 0 | 0 |\n",
       "| 17 | 17 | 11 |  0 | 1 | 1 |\n",
       "| 20 |  8 | 12 |  0 | 1 | 0 |\n",
       "| 43 | 13 | 12 |  5 | 1 | 1 |\n",
       "| 143 | 18 | 19 | 30 | 0 | 1 |\n",
       "| 76 | 18 | 17 | 16 | 0 | 1 |\n",
       "| 113 | 17 | 19 | 23 | 0 | 0 |\n",
       "| 171 | 20 | 20 | 36 | 0 | 0 |\n",
       "| 127 | 15 | 18 | 26 | 0 | 0 |\n",
       "\n"
      ],
      "text/plain": [
       "    R.SCORE L.SCORE DIEBLS INP FARM_BIN\n",
       "157 14      18      33     0   1       \n",
       "78  17      18      16     0   0       \n",
       "182 20      21      42     0   0       \n",
       "144 18      20      30     0   1       \n",
       "177 20      20      38     0   0       \n",
       "50  14      10       8     1   1       \n",
       "15   9      11       0     1   0       \n",
       "61  14       9      12     1   0       \n",
       "97  16      21      20     0   0       \n",
       "22  16      13       0     1   0       \n",
       "118 15      19      24     0   1       \n",
       "85  12      13      18     0   0       \n",
       "8   14       8       0     1   1       \n",
       "84  19      21      17     0   0       \n",
       "90  15      17      19     0   1       \n",
       "44  16      14       6     1   1       \n",
       "117 21      17      24     0   0       \n",
       "124 17      16      26     0   0       \n",
       "41  16      17       4     1   0       \n",
       "175 20      16      38     0   0       \n",
       "141 17      16      30     0   1       \n",
       "101 20      19      21     0   0       \n",
       "40  12      14       4     1   1       \n",
       "96  20      20      20     0   0       \n",
       "81  15      16      17     0   1       \n",
       "174 20      20      37     0   0       \n",
       "49  13       8       8     1   1       \n",
       "125 16      17      26     0   1       \n",
       "21  13      13       0     1   1       \n",
       "51  11      11       8     1   1       \n",
       "... ...     ...     ...    ... ...     \n",
       "183 19      19      44     0   0       \n",
       "168 20      20      35     0   1       \n",
       "7   19       7       0     1   1       \n",
       "110 19      21      22     0   1       \n",
       "62  16      13      12     1   0       \n",
       "48  12      16       7     1   0       \n",
       "170 18      20      36     0   0       \n",
       "53  14      13       8     1   0       \n",
       "58  14      18      10     1   1       \n",
       "3    7       5       0     1   1       \n",
       "73  15      13      15     0   0       \n",
       "184 19      20      50     0   0       \n",
       "173 19      19      37     0   1       \n",
       "67  15      14      13     1   0       \n",
       "134 15      19      28     0   0       \n",
       "156 20      21      32     0   0       \n",
       "92  16      18      19     0   0       \n",
       "55   0      16       8     1   1       \n",
       "28  18      20       0     1   1       \n",
       "98  10      13      21     0   1       \n",
       "185 20      20      52     0   1       \n",
       "82  16      16      17     0   0       \n",
       "17  17      11       0     1   1       \n",
       "20   8      12       0     1   0       \n",
       "43  13      12       5     1   1       \n",
       "143 18      19      30     0   1       \n",
       "76  18      17      16     0   1       \n",
       "113 17      19      23     0   0       \n",
       "171 20      20      36     0   0       \n",
       "127 15      18      26     0   0       "
      ]
     },
     "metadata": {},
     "output_type": "display_data"
    }
   ],
   "source": [
    "train_set"
   ]
  },
  {
   "cell_type": "markdown",
   "metadata": {},
   "source": [
    "Fit the models on the train set using all variables other than R.Score/L.Score. This is probably not best practice because were are trying to predict DIEBELS with R.Score/L.Score"
   ]
  },
  {
   "cell_type": "code",
   "execution_count": 8,
   "metadata": {},
   "outputs": [],
   "source": [
    "model_R = lm(R.SCORE~.,train_set, x = TRUE,y= TRUE)\n",
    "model_L =lm(L.SCORE~.,train_set, x= TRUE, y= TRUE)"
   ]
  },
  {
   "cell_type": "markdown",
   "metadata": {},
   "source": [
    "Creating custom scoring metrics for the cross validations"
   ]
  },
  {
   "cell_type": "code",
   "execution_count": 9,
   "metadata": {},
   "outputs": [],
   "source": [
    "rsqd = function(object, y, X){\n",
    "    preds = predict(object, as.data.frame(X))\n",
    "    tss = sum((y-mean(y))%*%(y-mean(y)))\n",
    "    rss = sum((y-preds)%*%(y-preds))\n",
    "    rsq = 1 - (rss/tss)\n",
    "    return(rsq)\n",
    "    }\n",
    "rse = function(object,y,X){\n",
    "    preds = predict(object, as.data.frame(X))\n",
    "    rss = sum((y-preds)%*%(y-preds))\n",
    "    rse = sqrt(rss/(length(y)-(length(coefficients(object)-1))))\n",
    "    return(rse) \n",
    "}"
   ]
  },
  {
   "cell_type": "markdown",
   "metadata": {},
   "source": [
    "Run 5 fold CV on built-in metrics as well as rsqd custom metric"
   ]
  },
  {
   "cell_type": "code",
   "execution_count": 10,
   "metadata": {},
   "outputs": [],
   "source": [
    "cv_R_rsq = cv.lm(object = model_R, k = 5, fun = rsqd, seed = 24)\n",
    "cv_L_rsq = cv.lm(object = model_L, k =5, fun = rsqd, seed = 24)"
   ]
  },
  {
   "cell_type": "code",
   "execution_count": 11,
   "metadata": {},
   "outputs": [
    {
     "data": {
      "text/plain": [
       "Mean absolute error        :  2.335835 \n",
       "Sample standard deviation  :  0.3632365 \n",
       "\n",
       "Mean squared error         :  10.20601 \n",
       "Sample standard deviation  :  3.343929 \n",
       "\n",
       "Root mean squared error    :  3.159387 \n",
       "Sample standard deviation  :  0.5294868 \n",
       "\n",
       "User supplied function     :  0.3890505 \n",
       "Sample standard deviation  :  0.197561 \n"
      ]
     },
     "metadata": {},
     "output_type": "display_data"
    }
   ],
   "source": [
    "cv_R_rsq"
   ]
  },
  {
   "cell_type": "code",
   "execution_count": 12,
   "metadata": {},
   "outputs": [
    {
     "data": {
      "text/plain": [
       "Mean absolute error        :  2.369548 \n",
       "Sample standard deviation  :  0.3360425 \n",
       "\n",
       "Mean squared error         :  9.654316 \n",
       "Sample standard deviation  :  3.038032 \n",
       "\n",
       "Root mean squared error    :  3.073806 \n",
       "Sample standard deviation  :  0.507485 \n",
       "\n",
       "User supplied function     :  0.4191553 \n",
       "Sample standard deviation  :  0.1789954 \n"
      ]
     },
     "metadata": {},
     "output_type": "display_data"
    }
   ],
   "source": [
    "cv_L_rsq"
   ]
  },
  {
   "cell_type": "markdown",
   "metadata": {},
   "source": [
    "Rsquard test statistic is around .4 for all models. Rsqared is low, so there isn't too much of a linear relationship here. Shouldn't expect much during testing. Figure out rse below. "
   ]
  },
  {
   "cell_type": "code",
   "execution_count": 13,
   "metadata": {},
   "outputs": [],
   "source": [
    "cv_R_rse = cv.lm(object = model_R, k = 5, fun = rsqd, seed = 24)\n",
    "cv_L_rse = cv.lm(object = model_L, k =5, fun = rse, seed = 24)"
   ]
  },
  {
   "cell_type": "markdown",
   "metadata": {},
   "source": [
    "Below, RSE is around 3 for both models, which isn't that bad. "
   ]
  },
  {
   "cell_type": "code",
   "execution_count": 14,
   "metadata": {},
   "outputs": [
    {
     "data": {
      "text/plain": [
       "Mean absolute error        :  2.335835 \n",
       "Sample standard deviation  :  0.3632365 \n",
       "\n",
       "Mean squared error         :  10.20601 \n",
       "Sample standard deviation  :  3.343929 \n",
       "\n",
       "Root mean squared error    :  3.159387 \n",
       "Sample standard deviation  :  0.5294868 \n",
       "\n",
       "User supplied function     :  0.3890505 \n",
       "Sample standard deviation  :  0.197561 \n"
      ]
     },
     "metadata": {},
     "output_type": "display_data"
    }
   ],
   "source": [
    "cv_R_rse"
   ]
  },
  {
   "cell_type": "code",
   "execution_count": 15,
   "metadata": {},
   "outputs": [
    {
     "data": {
      "text/plain": [
       "Mean absolute error        :  2.369548 \n",
       "Sample standard deviation  :  0.3360425 \n",
       "\n",
       "Mean squared error         :  9.654316 \n",
       "Sample standard deviation  :  3.038032 \n",
       "\n",
       "Root mean squared error    :  3.073806 \n",
       "Sample standard deviation  :  0.507485 \n",
       "\n",
       "User supplied function     :  3.405234 \n",
       "Sample standard deviation  :  0.5622038 \n"
      ]
     },
     "metadata": {},
     "output_type": "display_data"
    }
   ],
   "source": [
    "cv_L_rse"
   ]
  },
  {
   "cell_type": "code",
   "execution_count": 16,
   "metadata": {},
   "outputs": [],
   "source": [
    "test_preds_R = predict(model_R, subset(test_set,select = -c(R.SCORE)))\n",
    "test_preds_L = predict(model_L, subset(test_set,select = -c(L.SCORE)))"
   ]
  },
  {
   "cell_type": "markdown",
   "metadata": {},
   "source": [
    "Compute the RSE and R^2 statistics. "
   ]
  },
  {
   "cell_type": "code",
   "execution_count": 17,
   "metadata": {},
   "outputs": [],
   "source": [
    "y_R = test_set[,'R.SCORE']\n",
    "y_L = test_set[,'L.SCORE']\n",
    "rss_R = sum((test_preds_R -y_R)%*%(test_preds_R-y_R))\n",
    "rss_L = sum((test_preds_L-y_L)%*%(test_preds_L-y_L))\n",
    "tss_R = sum((y_R -mean(y_R))%*%(y_R-mean(y_R)))\n",
    "tss_L = sum((y_L-mean(y_L))%*%(y_L-mean(y_L)))\n",
    "\n",
    "rsq_R = 1 - rss_R/tss_R\n",
    "rsq_L = 1 - rss_L/tss_L\n",
    "\n",
    "rse_R = sqrt(rss_R/(length(y_L)-2))\n",
    "rse_L = sqrt(rss_L/(length(y_L)-2))"
   ]
  },
  {
   "cell_type": "code",
   "execution_count": 18,
   "metadata": {},
   "outputs": [
    {
     "data": {
      "text/html": [
       "<style>\n",
       ".list-inline {list-style: none; margin:0; padding: 0}\n",
       ".list-inline>li {display: inline-block}\n",
       ".list-inline>li:not(:last-child)::after {content: \"\\00b7\"; padding: 0 .5ex}\n",
       "</style>\n",
       "<ol class=list-inline><li>0.358059616325482</li><li>0.637019820218491</li><li>4.10994481278894</li><li>2.71121416750214</li></ol>\n"
      ],
      "text/latex": [
       "\\begin{enumerate*}\n",
       "\\item 0.358059616325482\n",
       "\\item 0.637019820218491\n",
       "\\item 4.10994481278894\n",
       "\\item 2.71121416750214\n",
       "\\end{enumerate*}\n"
      ],
      "text/markdown": [
       "1. 0.358059616325482\n",
       "2. 0.637019820218491\n",
       "3. 4.10994481278894\n",
       "4. 2.71121416750214\n",
       "\n",
       "\n"
      ],
      "text/plain": [
       "[1] 0.3580596 0.6370198 4.1099448 2.7112142"
      ]
     },
     "metadata": {},
     "output_type": "display_data"
    }
   ],
   "source": [
    "c(rsq_R,rsq_L,rse_R,rse_L)"
   ]
  },
  {
   "cell_type": "markdown",
   "metadata": {},
   "source": [
    "We replace NA values with our predictions. "
   ]
  },
  {
   "cell_type": "code",
   "execution_count": 19,
   "metadata": {},
   "outputs": [],
   "source": [
    "R_score_pred = predict(model_R, subset(R_na, select = -c(R.SCORE, ID.)) )\n",
    "L_score_pred = predict(model_L, subset(L_na, select = -c(L.SCORE, ID.)))\n",
    "\n",
    "##insert predicted values\n",
    "R_na[,'R.SCORE'] = round(R_score_pred)\n",
    "L_na[,'L.SCORE'] = round(L_score_pred)\n",
    "#reset cleaned data variable\n",
    "cleaned_read = k_read[complete.cases(k_read),]\n",
    "#combine data frames\n",
    "filled_read = rbind(cleaned_read, R_na)\n",
    "filled_read = rbind(filled_read, L_na)"
   ]
  },
  {
   "cell_type": "code",
   "execution_count": 20,
   "metadata": {},
   "outputs": [
    {
     "data": {
      "text/html": [
       "<table>\n",
       "<caption>A data.frame: 185 × 6</caption>\n",
       "<thead>\n",
       "\t<tr><th></th><th scope=col>ID.</th><th scope=col>R.SCORE</th><th scope=col>L.SCORE</th><th scope=col>DIEBLS</th><th scope=col>INP</th><th scope=col>FARM_BIN</th></tr>\n",
       "\t<tr><th></th><th scope=col>&lt;int&gt;</th><th scope=col>&lt;dbl&gt;</th><th scope=col>&lt;dbl&gt;</th><th scope=col>&lt;int&gt;</th><th scope=col>&lt;int&gt;</th><th scope=col>&lt;int&gt;</th></tr>\n",
       "</thead>\n",
       "<tbody>\n",
       "\t<tr><th scope=row>1</th><td> 1</td><td> 6</td><td> 2</td><td>0</td><td>1</td><td>1</td></tr>\n",
       "\t<tr><th scope=row>2</th><td> 2</td><td>11</td><td> 3</td><td>0</td><td>1</td><td>1</td></tr>\n",
       "\t<tr><th scope=row>3</th><td> 3</td><td> 7</td><td> 5</td><td>0</td><td>1</td><td>1</td></tr>\n",
       "\t<tr><th scope=row>4</th><td> 4</td><td>10</td><td> 5</td><td>0</td><td>1</td><td>1</td></tr>\n",
       "\t<tr><th scope=row>6</th><td> 6</td><td> 0</td><td> 7</td><td>0</td><td>1</td><td>1</td></tr>\n",
       "\t<tr><th scope=row>7</th><td> 7</td><td>19</td><td> 7</td><td>0</td><td>1</td><td>1</td></tr>\n",
       "\t<tr><th scope=row>8</th><td> 8</td><td>14</td><td> 8</td><td>0</td><td>1</td><td>1</td></tr>\n",
       "\t<tr><th scope=row>9</th><td> 9</td><td>14</td><td> 8</td><td>0</td><td>1</td><td>1</td></tr>\n",
       "\t<tr><th scope=row>10</th><td>10</td><td>12</td><td> 9</td><td>0</td><td>1</td><td>1</td></tr>\n",
       "\t<tr><th scope=row>11</th><td>11</td><td>13</td><td> 9</td><td>0</td><td>1</td><td>1</td></tr>\n",
       "\t<tr><th scope=row>12</th><td>12</td><td>13</td><td> 9</td><td>0</td><td>1</td><td>0</td></tr>\n",
       "\t<tr><th scope=row>13</th><td>13</td><td> 0</td><td>10</td><td>0</td><td>1</td><td>1</td></tr>\n",
       "\t<tr><th scope=row>14</th><td>14</td><td> 5</td><td>11</td><td>0</td><td>1</td><td>1</td></tr>\n",
       "\t<tr><th scope=row>15</th><td>15</td><td> 9</td><td>11</td><td>0</td><td>1</td><td>0</td></tr>\n",
       "\t<tr><th scope=row>16</th><td>16</td><td>14</td><td>11</td><td>0</td><td>1</td><td>1</td></tr>\n",
       "\t<tr><th scope=row>17</th><td>17</td><td>17</td><td>11</td><td>0</td><td>1</td><td>1</td></tr>\n",
       "\t<tr><th scope=row>18</th><td>18</td><td> 1</td><td>12</td><td>0</td><td>1</td><td>1</td></tr>\n",
       "\t<tr><th scope=row>19</th><td>19</td><td> 3</td><td>12</td><td>0</td><td>1</td><td>1</td></tr>\n",
       "\t<tr><th scope=row>20</th><td>20</td><td> 8</td><td>12</td><td>0</td><td>1</td><td>0</td></tr>\n",
       "\t<tr><th scope=row>21</th><td>21</td><td>13</td><td>13</td><td>0</td><td>1</td><td>1</td></tr>\n",
       "\t<tr><th scope=row>22</th><td>22</td><td>16</td><td>13</td><td>0</td><td>1</td><td>0</td></tr>\n",
       "\t<tr><th scope=row>23</th><td>23</td><td>16</td><td>13</td><td>0</td><td>1</td><td>0</td></tr>\n",
       "\t<tr><th scope=row>24</th><td>24</td><td>17</td><td>13</td><td>0</td><td>1</td><td>0</td></tr>\n",
       "\t<tr><th scope=row>25</th><td>25</td><td> 3</td><td>14</td><td>0</td><td>1</td><td>1</td></tr>\n",
       "\t<tr><th scope=row>26</th><td>26</td><td> 8</td><td>18</td><td>0</td><td>1</td><td>1</td></tr>\n",
       "\t<tr><th scope=row>27</th><td>27</td><td>16</td><td>19</td><td>0</td><td>1</td><td>1</td></tr>\n",
       "\t<tr><th scope=row>28</th><td>28</td><td>18</td><td>20</td><td>0</td><td>1</td><td>1</td></tr>\n",
       "\t<tr><th scope=row>29</th><td>29</td><td>11</td><td>21</td><td>0</td><td>1</td><td>1</td></tr>\n",
       "\t<tr><th scope=row>35</th><td>35</td><td> 4</td><td> 8</td><td>2</td><td>1</td><td>1</td></tr>\n",
       "\t<tr><th scope=row>36</th><td>36</td><td>21</td><td>15</td><td>3</td><td>1</td><td>1</td></tr>\n",
       "\t<tr><th scope=row>...</th><td>...</td><td>...</td><td>...</td><td>...</td><td>...</td><td>...</td></tr>\n",
       "\t<tr><th scope=row>171</th><td>171</td><td>20</td><td>20</td><td>36</td><td>0</td><td>0</td></tr>\n",
       "\t<tr><th scope=row>172</th><td>172</td><td>16</td><td>19</td><td>37</td><td>0</td><td>1</td></tr>\n",
       "\t<tr><th scope=row>173</th><td>173</td><td>19</td><td>19</td><td>37</td><td>0</td><td>1</td></tr>\n",
       "\t<tr><th scope=row>174</th><td>174</td><td>20</td><td>20</td><td>37</td><td>0</td><td>0</td></tr>\n",
       "\t<tr><th scope=row>175</th><td>175</td><td>20</td><td>16</td><td>38</td><td>0</td><td>0</td></tr>\n",
       "\t<tr><th scope=row>176</th><td>176</td><td>20</td><td>17</td><td>38</td><td>0</td><td>0</td></tr>\n",
       "\t<tr><th scope=row>177</th><td>177</td><td>20</td><td>20</td><td>38</td><td>0</td><td>0</td></tr>\n",
       "\t<tr><th scope=row>178</th><td>178</td><td>21</td><td>20</td><td>39</td><td>0</td><td>0</td></tr>\n",
       "\t<tr><th scope=row>179</th><td>179</td><td>17</td><td>16</td><td>40</td><td>0</td><td>0</td></tr>\n",
       "\t<tr><th scope=row>180</th><td>180</td><td>19</td><td>18</td><td>41</td><td>0</td><td>1</td></tr>\n",
       "\t<tr><th scope=row>181</th><td>181</td><td>18</td><td>21</td><td>41</td><td>0</td><td>0</td></tr>\n",
       "\t<tr><th scope=row>182</th><td>182</td><td>20</td><td>21</td><td>42</td><td>0</td><td>0</td></tr>\n",
       "\t<tr><th scope=row>183</th><td>183</td><td>19</td><td>19</td><td>44</td><td>0</td><td>0</td></tr>\n",
       "\t<tr><th scope=row>184</th><td>184</td><td>19</td><td>20</td><td>50</td><td>0</td><td>0</td></tr>\n",
       "\t<tr><th scope=row>185</th><td>185</td><td>20</td><td>20</td><td>52</td><td>0</td><td>1</td></tr>\n",
       "\t<tr><th scope=row>5</th><td>  5</td><td> 9</td><td> 6</td><td> 0</td><td>1</td><td>1</td></tr>\n",
       "\t<tr><th scope=row>54</th><td> 54</td><td>13</td><td>15</td><td> 8</td><td>1</td><td>1</td></tr>\n",
       "\t<tr><th scope=row>57</th><td> 57</td><td>12</td><td>13</td><td> 9</td><td>1</td><td>1</td></tr>\n",
       "\t<tr><th scope=row>91</th><td> 91</td><td>16</td><td>17</td><td>19</td><td>0</td><td>1</td></tr>\n",
       "\t<tr><th scope=row>119</th><td>119</td><td>19</td><td>21</td><td>24</td><td>0</td><td>0</td></tr>\n",
       "\t<tr><th scope=row>30</th><td> 30</td><td> 6</td><td>11</td><td> 0</td><td>1</td><td>0</td></tr>\n",
       "\t<tr><th scope=row>31</th><td> 31</td><td> 8</td><td>11</td><td> 0</td><td>1</td><td>0</td></tr>\n",
       "\t<tr><th scope=row>32</th><td> 32</td><td> 8</td><td>11</td><td> 0</td><td>1</td><td>1</td></tr>\n",
       "\t<tr><th scope=row>33</th><td> 33</td><td>13</td><td>13</td><td> 0</td><td>1</td><td>0</td></tr>\n",
       "\t<tr><th scope=row>34</th><td> 34</td><td>21</td><td>15</td><td> 0</td><td>1</td><td>0</td></tr>\n",
       "\t<tr><th scope=row>37</th><td> 37</td><td>11</td><td>12</td><td> 3</td><td>1</td><td>1</td></tr>\n",
       "\t<tr><th scope=row>60</th><td> 60</td><td>15</td><td>14</td><td>11</td><td>1</td><td>1</td></tr>\n",
       "\t<tr><th scope=row>79</th><td> 79</td><td>15</td><td>16</td><td>16</td><td>0</td><td>1</td></tr>\n",
       "\t<tr><th scope=row>122</th><td>122</td><td>15</td><td>17</td><td>25</td><td>0</td><td>1</td></tr>\n",
       "\t<tr><th scope=row>138</th><td>138</td><td>19</td><td>19</td><td>28</td><td>0</td><td>0</td></tr>\n",
       "</tbody>\n",
       "</table>\n"
      ],
      "text/latex": [
       "A data.frame: 185 × 6\n",
       "\\begin{tabular}{r|llllll}\n",
       "  & ID. & R.SCORE & L.SCORE & DIEBLS & INP & FARM\\_BIN\\\\\n",
       "  & <int> & <dbl> & <dbl> & <int> & <int> & <int>\\\\\n",
       "\\hline\n",
       "\t1 &  1 &  6 &  2 & 0 & 1 & 1\\\\\n",
       "\t2 &  2 & 11 &  3 & 0 & 1 & 1\\\\\n",
       "\t3 &  3 &  7 &  5 & 0 & 1 & 1\\\\\n",
       "\t4 &  4 & 10 &  5 & 0 & 1 & 1\\\\\n",
       "\t6 &  6 &  0 &  7 & 0 & 1 & 1\\\\\n",
       "\t7 &  7 & 19 &  7 & 0 & 1 & 1\\\\\n",
       "\t8 &  8 & 14 &  8 & 0 & 1 & 1\\\\\n",
       "\t9 &  9 & 14 &  8 & 0 & 1 & 1\\\\\n",
       "\t10 & 10 & 12 &  9 & 0 & 1 & 1\\\\\n",
       "\t11 & 11 & 13 &  9 & 0 & 1 & 1\\\\\n",
       "\t12 & 12 & 13 &  9 & 0 & 1 & 0\\\\\n",
       "\t13 & 13 &  0 & 10 & 0 & 1 & 1\\\\\n",
       "\t14 & 14 &  5 & 11 & 0 & 1 & 1\\\\\n",
       "\t15 & 15 &  9 & 11 & 0 & 1 & 0\\\\\n",
       "\t16 & 16 & 14 & 11 & 0 & 1 & 1\\\\\n",
       "\t17 & 17 & 17 & 11 & 0 & 1 & 1\\\\\n",
       "\t18 & 18 &  1 & 12 & 0 & 1 & 1\\\\\n",
       "\t19 & 19 &  3 & 12 & 0 & 1 & 1\\\\\n",
       "\t20 & 20 &  8 & 12 & 0 & 1 & 0\\\\\n",
       "\t21 & 21 & 13 & 13 & 0 & 1 & 1\\\\\n",
       "\t22 & 22 & 16 & 13 & 0 & 1 & 0\\\\\n",
       "\t23 & 23 & 16 & 13 & 0 & 1 & 0\\\\\n",
       "\t24 & 24 & 17 & 13 & 0 & 1 & 0\\\\\n",
       "\t25 & 25 &  3 & 14 & 0 & 1 & 1\\\\\n",
       "\t26 & 26 &  8 & 18 & 0 & 1 & 1\\\\\n",
       "\t27 & 27 & 16 & 19 & 0 & 1 & 1\\\\\n",
       "\t28 & 28 & 18 & 20 & 0 & 1 & 1\\\\\n",
       "\t29 & 29 & 11 & 21 & 0 & 1 & 1\\\\\n",
       "\t35 & 35 &  4 &  8 & 2 & 1 & 1\\\\\n",
       "\t36 & 36 & 21 & 15 & 3 & 1 & 1\\\\\n",
       "\t... & ... & ... & ... & ... & ... & ...\\\\\n",
       "\t171 & 171 & 20 & 20 & 36 & 0 & 0\\\\\n",
       "\t172 & 172 & 16 & 19 & 37 & 0 & 1\\\\\n",
       "\t173 & 173 & 19 & 19 & 37 & 0 & 1\\\\\n",
       "\t174 & 174 & 20 & 20 & 37 & 0 & 0\\\\\n",
       "\t175 & 175 & 20 & 16 & 38 & 0 & 0\\\\\n",
       "\t176 & 176 & 20 & 17 & 38 & 0 & 0\\\\\n",
       "\t177 & 177 & 20 & 20 & 38 & 0 & 0\\\\\n",
       "\t178 & 178 & 21 & 20 & 39 & 0 & 0\\\\\n",
       "\t179 & 179 & 17 & 16 & 40 & 0 & 0\\\\\n",
       "\t180 & 180 & 19 & 18 & 41 & 0 & 1\\\\\n",
       "\t181 & 181 & 18 & 21 & 41 & 0 & 0\\\\\n",
       "\t182 & 182 & 20 & 21 & 42 & 0 & 0\\\\\n",
       "\t183 & 183 & 19 & 19 & 44 & 0 & 0\\\\\n",
       "\t184 & 184 & 19 & 20 & 50 & 0 & 0\\\\\n",
       "\t185 & 185 & 20 & 20 & 52 & 0 & 1\\\\\n",
       "\t5 &   5 &  9 &  6 &  0 & 1 & 1\\\\\n",
       "\t54 &  54 & 13 & 15 &  8 & 1 & 1\\\\\n",
       "\t57 &  57 & 12 & 13 &  9 & 1 & 1\\\\\n",
       "\t91 &  91 & 16 & 17 & 19 & 0 & 1\\\\\n",
       "\t119 & 119 & 19 & 21 & 24 & 0 & 0\\\\\n",
       "\t30 &  30 &  6 & 11 &  0 & 1 & 0\\\\\n",
       "\t31 &  31 &  8 & 11 &  0 & 1 & 0\\\\\n",
       "\t32 &  32 &  8 & 11 &  0 & 1 & 1\\\\\n",
       "\t33 &  33 & 13 & 13 &  0 & 1 & 0\\\\\n",
       "\t34 &  34 & 21 & 15 &  0 & 1 & 0\\\\\n",
       "\t37 &  37 & 11 & 12 &  3 & 1 & 1\\\\\n",
       "\t60 &  60 & 15 & 14 & 11 & 1 & 1\\\\\n",
       "\t79 &  79 & 15 & 16 & 16 & 0 & 1\\\\\n",
       "\t122 & 122 & 15 & 17 & 25 & 0 & 1\\\\\n",
       "\t138 & 138 & 19 & 19 & 28 & 0 & 0\\\\\n",
       "\\end{tabular}\n"
      ],
      "text/markdown": [
       "\n",
       "A data.frame: 185 × 6\n",
       "\n",
       "| <!--/--> | ID. &lt;int&gt; | R.SCORE &lt;dbl&gt; | L.SCORE &lt;dbl&gt; | DIEBLS &lt;int&gt; | INP &lt;int&gt; | FARM_BIN &lt;int&gt; |\n",
       "|---|---|---|---|---|---|---|\n",
       "| 1 |  1 |  6 |  2 | 0 | 1 | 1 |\n",
       "| 2 |  2 | 11 |  3 | 0 | 1 | 1 |\n",
       "| 3 |  3 |  7 |  5 | 0 | 1 | 1 |\n",
       "| 4 |  4 | 10 |  5 | 0 | 1 | 1 |\n",
       "| 6 |  6 |  0 |  7 | 0 | 1 | 1 |\n",
       "| 7 |  7 | 19 |  7 | 0 | 1 | 1 |\n",
       "| 8 |  8 | 14 |  8 | 0 | 1 | 1 |\n",
       "| 9 |  9 | 14 |  8 | 0 | 1 | 1 |\n",
       "| 10 | 10 | 12 |  9 | 0 | 1 | 1 |\n",
       "| 11 | 11 | 13 |  9 | 0 | 1 | 1 |\n",
       "| 12 | 12 | 13 |  9 | 0 | 1 | 0 |\n",
       "| 13 | 13 |  0 | 10 | 0 | 1 | 1 |\n",
       "| 14 | 14 |  5 | 11 | 0 | 1 | 1 |\n",
       "| 15 | 15 |  9 | 11 | 0 | 1 | 0 |\n",
       "| 16 | 16 | 14 | 11 | 0 | 1 | 1 |\n",
       "| 17 | 17 | 17 | 11 | 0 | 1 | 1 |\n",
       "| 18 | 18 |  1 | 12 | 0 | 1 | 1 |\n",
       "| 19 | 19 |  3 | 12 | 0 | 1 | 1 |\n",
       "| 20 | 20 |  8 | 12 | 0 | 1 | 0 |\n",
       "| 21 | 21 | 13 | 13 | 0 | 1 | 1 |\n",
       "| 22 | 22 | 16 | 13 | 0 | 1 | 0 |\n",
       "| 23 | 23 | 16 | 13 | 0 | 1 | 0 |\n",
       "| 24 | 24 | 17 | 13 | 0 | 1 | 0 |\n",
       "| 25 | 25 |  3 | 14 | 0 | 1 | 1 |\n",
       "| 26 | 26 |  8 | 18 | 0 | 1 | 1 |\n",
       "| 27 | 27 | 16 | 19 | 0 | 1 | 1 |\n",
       "| 28 | 28 | 18 | 20 | 0 | 1 | 1 |\n",
       "| 29 | 29 | 11 | 21 | 0 | 1 | 1 |\n",
       "| 35 | 35 |  4 |  8 | 2 | 1 | 1 |\n",
       "| 36 | 36 | 21 | 15 | 3 | 1 | 1 |\n",
       "| ... | ... | ... | ... | ... | ... | ... |\n",
       "| 171 | 171 | 20 | 20 | 36 | 0 | 0 |\n",
       "| 172 | 172 | 16 | 19 | 37 | 0 | 1 |\n",
       "| 173 | 173 | 19 | 19 | 37 | 0 | 1 |\n",
       "| 174 | 174 | 20 | 20 | 37 | 0 | 0 |\n",
       "| 175 | 175 | 20 | 16 | 38 | 0 | 0 |\n",
       "| 176 | 176 | 20 | 17 | 38 | 0 | 0 |\n",
       "| 177 | 177 | 20 | 20 | 38 | 0 | 0 |\n",
       "| 178 | 178 | 21 | 20 | 39 | 0 | 0 |\n",
       "| 179 | 179 | 17 | 16 | 40 | 0 | 0 |\n",
       "| 180 | 180 | 19 | 18 | 41 | 0 | 1 |\n",
       "| 181 | 181 | 18 | 21 | 41 | 0 | 0 |\n",
       "| 182 | 182 | 20 | 21 | 42 | 0 | 0 |\n",
       "| 183 | 183 | 19 | 19 | 44 | 0 | 0 |\n",
       "| 184 | 184 | 19 | 20 | 50 | 0 | 0 |\n",
       "| 185 | 185 | 20 | 20 | 52 | 0 | 1 |\n",
       "| 5 |   5 |  9 |  6 |  0 | 1 | 1 |\n",
       "| 54 |  54 | 13 | 15 |  8 | 1 | 1 |\n",
       "| 57 |  57 | 12 | 13 |  9 | 1 | 1 |\n",
       "| 91 |  91 | 16 | 17 | 19 | 0 | 1 |\n",
       "| 119 | 119 | 19 | 21 | 24 | 0 | 0 |\n",
       "| 30 |  30 |  6 | 11 |  0 | 1 | 0 |\n",
       "| 31 |  31 |  8 | 11 |  0 | 1 | 0 |\n",
       "| 32 |  32 |  8 | 11 |  0 | 1 | 1 |\n",
       "| 33 |  33 | 13 | 13 |  0 | 1 | 0 |\n",
       "| 34 |  34 | 21 | 15 |  0 | 1 | 0 |\n",
       "| 37 |  37 | 11 | 12 |  3 | 1 | 1 |\n",
       "| 60 |  60 | 15 | 14 | 11 | 1 | 1 |\n",
       "| 79 |  79 | 15 | 16 | 16 | 0 | 1 |\n",
       "| 122 | 122 | 15 | 17 | 25 | 0 | 1 |\n",
       "| 138 | 138 | 19 | 19 | 28 | 0 | 0 |\n",
       "\n"
      ],
      "text/plain": [
       "    ID. R.SCORE L.SCORE DIEBLS INP FARM_BIN\n",
       "1    1   6       2      0      1   1       \n",
       "2    2  11       3      0      1   1       \n",
       "3    3   7       5      0      1   1       \n",
       "4    4  10       5      0      1   1       \n",
       "6    6   0       7      0      1   1       \n",
       "7    7  19       7      0      1   1       \n",
       "8    8  14       8      0      1   1       \n",
       "9    9  14       8      0      1   1       \n",
       "10  10  12       9      0      1   1       \n",
       "11  11  13       9      0      1   1       \n",
       "12  12  13       9      0      1   0       \n",
       "13  13   0      10      0      1   1       \n",
       "14  14   5      11      0      1   1       \n",
       "15  15   9      11      0      1   0       \n",
       "16  16  14      11      0      1   1       \n",
       "17  17  17      11      0      1   1       \n",
       "18  18   1      12      0      1   1       \n",
       "19  19   3      12      0      1   1       \n",
       "20  20   8      12      0      1   0       \n",
       "21  21  13      13      0      1   1       \n",
       "22  22  16      13      0      1   0       \n",
       "23  23  16      13      0      1   0       \n",
       "24  24  17      13      0      1   0       \n",
       "25  25   3      14      0      1   1       \n",
       "26  26   8      18      0      1   1       \n",
       "27  27  16      19      0      1   1       \n",
       "28  28  18      20      0      1   1       \n",
       "29  29  11      21      0      1   1       \n",
       "35  35   4       8      2      1   1       \n",
       "36  36  21      15      3      1   1       \n",
       "... ... ...     ...     ...    ... ...     \n",
       "171 171 20      20      36     0   0       \n",
       "172 172 16      19      37     0   1       \n",
       "173 173 19      19      37     0   1       \n",
       "174 174 20      20      37     0   0       \n",
       "175 175 20      16      38     0   0       \n",
       "176 176 20      17      38     0   0       \n",
       "177 177 20      20      38     0   0       \n",
       "178 178 21      20      39     0   0       \n",
       "179 179 17      16      40     0   0       \n",
       "180 180 19      18      41     0   1       \n",
       "181 181 18      21      41     0   0       \n",
       "182 182 20      21      42     0   0       \n",
       "183 183 19      19      44     0   0       \n",
       "184 184 19      20      50     0   0       \n",
       "185 185 20      20      52     0   1       \n",
       "5     5  9       6       0     1   1       \n",
       "54   54 13      15       8     1   1       \n",
       "57   57 12      13       9     1   1       \n",
       "91   91 16      17      19     0   1       \n",
       "119 119 19      21      24     0   0       \n",
       "30   30  6      11       0     1   0       \n",
       "31   31  8      11       0     1   0       \n",
       "32   32  8      11       0     1   1       \n",
       "33   33 13      13       0     1   0       \n",
       "34   34 21      15       0     1   0       \n",
       "37   37 11      12       3     1   1       \n",
       "60   60 15      14      11     1   1       \n",
       "79   79 15      16      16     0   1       \n",
       "122 122 15      17      25     0   1       \n",
       "138 138 19      19      28     0   0       "
      ]
     },
     "metadata": {},
     "output_type": "display_data"
    }
   ],
   "source": [
    "filled_read"
   ]
  },
  {
   "cell_type": "code",
   "execution_count": 21,
   "metadata": {},
   "outputs": [],
   "source": [
    "#reset row names\n",
    "rownames(filled_read) <- 1:nrow(filled_read)"
   ]
  },
  {
   "cell_type": "markdown",
   "metadata": {},
   "source": [
    "This isn't good pracice though, maybe a better thing to do would just be to regress R.Score on L.Score. Let's see if there is some natural relationship between R.Score and L.Score. The graph below is less than exciting,but still shows a linear trend. Let's use R.Score to predict L.Score, and throug this relationship, we can determine R.Score through the coefficients by working backwards. "
   ]
  },
  {
   "cell_type": "code",
   "execution_count": 22,
   "metadata": {},
   "outputs": [
    {
     "data": {
      "image/png": "[encoded data removed]",
      "text/plain": [
       "plot without title"
      ]
     },
     "metadata": {
      "image/png": {
       "height": 420,
       "width": 420
      }
     },
     "output_type": "display_data"
    }
   ],
   "source": [
    "plot(train_set$L.SCORE, train_set$R.SCORE)"
   ]
  },
  {
   "cell_type": "code",
   "execution_count": 23,
   "metadata": {},
   "outputs": [
    {
     "data": {
      "image/png": "[encoded data removed]",
      "text/plain": [
       "plot without title"
      ]
     },
     "metadata": {
      "image/png": {
       "height": 420,
       "width": 420
      }
     },
     "output_type": "display_data"
    }
   ],
   "source": [
    "plot(train_set$R.SCORE, train_set$L.SCORE)"
   ]
  },
  {
   "cell_type": "markdown",
   "metadata": {},
   "source": [
    "Fit the model and run CV validation on model_R_new"
   ]
  },
  {
   "cell_type": "code",
   "execution_count": 24,
   "metadata": {},
   "outputs": [],
   "source": [
    "model_R_new =lm(R.SCORE~L.SCORE, train_set, x = TRUE,y= TRUE)\n",
    "model_L_new = lm(L.SCORE~R.SCORE, train_set, x = TRUE, y= TRUE)"
   ]
  },
  {
   "cell_type": "code",
   "execution_count": 25,
   "metadata": {},
   "outputs": [],
   "source": [
    "cv_R_new_rsqd = cv.lm(object = model_R_new, k = 5, fun = rsqd, seed = 24)\n",
    "cv_R_new_rse = cv.lm(object = model_R_new, k = 5, fun = rse, seed = 24)"
   ]
  },
  {
   "cell_type": "code",
   "execution_count": 26,
   "metadata": {},
   "outputs": [
    {
     "data": {
      "text/plain": [
       "Mean absolute error        :  2.476237 \n",
       "Sample standard deviation  :  0.3516305 \n",
       "\n",
       "Mean squared error         :  12.37 \n",
       "Sample standard deviation  :  4.007563 \n",
       "\n",
       "Root mean squared error    :  3.476131 \n",
       "Sample standard deviation  :  0.5984562 \n",
       "\n",
       "User supplied function     :  0.2781961 \n",
       "Sample standard deviation  :  0.1640992 \n"
      ]
     },
     "metadata": {},
     "output_type": "display_data"
    }
   ],
   "source": [
    "cv_R_new_rsqd ##considerably worse than before"
   ]
  },
  {
   "cell_type": "code",
   "execution_count": 27,
   "metadata": {},
   "outputs": [
    {
     "data": {
      "text/plain": [
       "Mean absolute error        :  2.476237 \n",
       "Sample standard deviation  :  0.3516305 \n",
       "\n",
       "Mean squared error         :  12.37 \n",
       "Sample standard deviation  :  4.007563 \n",
       "\n",
       "Root mean squared error    :  3.476131 \n",
       "Sample standard deviation  :  0.5984562 \n",
       "\n",
       "User supplied function     :  3.612501 \n",
       "Sample standard deviation  :  0.6219339 \n"
      ]
     },
     "metadata": {},
     "output_type": "display_data"
    }
   ],
   "source": [
    "cv_R_new_rse"
   ]
  },
  {
   "cell_type": "code",
   "execution_count": 28,
   "metadata": {},
   "outputs": [
    {
     "data": {
      "text/html": [
       "<style>\n",
       ".dl-inline {width: auto; margin:0; padding: 0}\n",
       ".dl-inline>dt, .dl-inline>dd {float: none; width: auto; display: inline-block}\n",
       ".dl-inline>dt::after {content: \":\\0020\"; padding-right: .5ex}\n",
       ".dl-inline>dt:not(:first-of-type) {padding-left: .5ex}\n",
       "</style><dl class=dl-inline><dt>(Intercept)</dt><dd>5.50149566257854</dd><dt>L.SCORE</dt><dd>0.626034499950144</dd></dl>\n"
      ],
      "text/latex": [
       "\\begin{description*}\n",
       "\\item[(Intercept)] 5.50149566257854\n",
       "\\item[L.SCORE] 0.626034499950144\n",
       "\\end{description*}\n"
      ],
      "text/markdown": [
       "(Intercept)\n",
       ":   5.50149566257854L.SCORE\n",
       ":   0.626034499950144\n",
       "\n"
      ],
      "text/plain": [
       "(Intercept)     L.SCORE \n",
       "  5.5014957   0.6260345 "
      ]
     },
     "metadata": {},
     "output_type": "display_data"
    },
    {
     "data": {
      "text/html": [
       "<style>\n",
       ".dl-inline {width: auto; margin:0; padding: 0}\n",
       ".dl-inline>dt, .dl-inline>dd {float: none; width: auto; display: inline-block}\n",
       ".dl-inline>dt::after {content: \":\\0020\"; padding-right: .5ex}\n",
       ".dl-inline>dt:not(:first-of-type) {padding-left: .5ex}\n",
       "</style><dl class=dl-inline><dt>(Intercept)</dt><dd>7.14186792869685</dd><dt>R.SCORE</dt><dd>0.584053302945383</dd></dl>\n"
      ],
      "text/latex": [
       "\\begin{description*}\n",
       "\\item[(Intercept)] 7.14186792869685\n",
       "\\item[R.SCORE] 0.584053302945383\n",
       "\\end{description*}\n"
      ],
      "text/markdown": [
       "(Intercept)\n",
       ":   7.14186792869685R.SCORE\n",
       ":   0.584053302945383\n",
       "\n"
      ],
      "text/plain": [
       "(Intercept)     R.SCORE \n",
       "  7.1418679   0.5840533 "
      ]
     },
     "metadata": {},
     "output_type": "display_data"
    }
   ],
   "source": [
    "model_R_new$coefficients\n",
    "model_L_new$coefficients ##get coefficients, since it is probably better to use a model whose covariate does not include diebls"
   ]
  },
  {
   "cell_type": "code",
   "execution_count": 29,
   "metadata": {},
   "outputs": [],
   "source": [
    "test_preds_R_new = predict(model_R_new, subset(test_set,select = -c(R.SCORE)))"
   ]
  },
  {
   "cell_type": "markdown",
   "metadata": {},
   "source": [
    "Test scores"
   ]
  },
  {
   "cell_type": "code",
   "execution_count": 30,
   "metadata": {},
   "outputs": [],
   "source": [
    "rss_R_new = sum((test_preds_R_new -y_R)%*%(test_preds_R_new-y_R))\n",
    "tss_R_new = sum((y_R -mean(y_R))%*%(y_R-mean(y_R)))\n",
    "rsq_R_new = 1 - rss_R_new/tss_R_new\n",
    "rse_R_new = sqrt(rss_R_new/(length(y_R)-2))"
   ]
  },
  {
   "cell_type": "code",
   "execution_count": 31,
   "metadata": {},
   "outputs": [
    {
     "data": {
      "text/html": [
       "<style>\n",
       ".list-inline {list-style: none; margin:0; padding: 0}\n",
       ".list-inline>li {display: inline-block}\n",
       ".list-inline>li:not(:last-child)::after {content: \"\\00b7\"; padding: 0 .5ex}\n",
       "</style>\n",
       "<ol class=list-inline><li>505.14149615482</li><li>842.029411764706</li><li>0.400090437344515</li><li>3.97311864343844</li></ol>\n"
      ],
      "text/latex": [
       "\\begin{enumerate*}\n",
       "\\item 505.14149615482\n",
       "\\item 842.029411764706\n",
       "\\item 0.400090437344515\n",
       "\\item 3.97311864343844\n",
       "\\end{enumerate*}\n"
      ],
      "text/markdown": [
       "1. 505.14149615482\n",
       "2. 842.029411764706\n",
       "3. 0.400090437344515\n",
       "4. 3.97311864343844\n",
       "\n",
       "\n"
      ],
      "text/plain": [
       "[1] 505.1414962 842.0294118   0.4000904   3.9731186"
      ]
     },
     "metadata": {},
     "output_type": "display_data"
    }
   ],
   "source": [
    "c(rss_R_new,tss_R_new,rsq_R_new,rse_R_new)"
   ]
  },
  {
   "cell_type": "markdown",
   "metadata": {},
   "source": [
    "Get rss_R for comparison"
   ]
  },
  {
   "cell_type": "code",
   "execution_count": 32,
   "metadata": {},
   "outputs": [],
   "source": [
    "RSS_r_new = sum((model_R_new$residuals)^2)\n",
    "RSS_r = sum((model_R$residuals)^2)"
   ]
  },
  {
   "cell_type": "code",
   "execution_count": 33,
   "metadata": {},
   "outputs": [
    {
     "data": {
      "text/html": [
       "1604.54526872071"
      ],
      "text/latex": [
       "1604.54526872071"
      ],
      "text/markdown": [
       "1604.54526872071"
      ],
      "text/plain": [
       "[1] 1604.545"
      ]
     },
     "metadata": {},
     "output_type": "display_data"
    }
   ],
   "source": [
    "RSS_r_new"
   ]
  },
  {
   "cell_type": "code",
   "execution_count": 34,
   "metadata": {},
   "outputs": [
    {
     "data": {
      "text/html": [
       "1263.21423558875"
      ],
      "text/latex": [
       "1263.21423558875"
      ],
      "text/markdown": [
       "1263.21423558875"
      ],
      "text/plain": [
       "[1] 1263.214"
      ]
     },
     "metadata": {},
     "output_type": "display_data"
    }
   ],
   "source": [
    "RSS_r"
   ]
  },
  {
   "cell_type": "markdown",
   "metadata": {},
   "source": [
    "Let's quickly do a model comparison between model_R_new and model_R. We have $\\frac{(RSS_0 - RSS_1)/(p-p_0)}{RSS_1/(n-p-1)} \\sim F_{p-p_0,n-p-1}$, where the $0$ subscripts refer to model_R_new."
   ]
  },
  {
   "cell_type": "markdown",
   "metadata": {},
   "source": [
    "We have rss_R_new = $RSS_0$ = 1604.54526872071 and rss_R =1263.21423558875 = $RSS_1$. We also have $p_0 = 1$, $p = 4$ and $n = 136$. Computing our test stat, we have $\\frac{(1604.54526872071 - 1263.21423558875)/(3)}{1263.21423558875/(136-4-1)} = -.6328$. We have $F_{3, 29}$, so we compute the test stat with $\\alpha = 0.05$."
   ]
  },
  {
   "cell_type": "code",
   "execution_count": 35,
   "metadata": {},
   "outputs": [],
   "source": [
    "f_stat = ((RSS_r_new - RSS_r)/3)/(RSS_r/131)"
   ]
  },
  {
   "cell_type": "code",
   "execution_count": 36,
   "metadata": {},
   "outputs": [
    {
     "data": {
      "text/html": [
       "11.7990979097978"
      ],
      "text/latex": [
       "11.7990979097978"
      ],
      "text/markdown": [
       "11.7990979097978"
      ],
      "text/plain": [
       "[1] 11.7991"
      ]
     },
     "metadata": {},
     "output_type": "display_data"
    }
   ],
   "source": [
    "f_stat"
   ]
  },
  {
   "cell_type": "code",
   "execution_count": 37,
   "metadata": {},
   "outputs": [
    {
     "data": {
      "text/html": [
       "3.17290704084422e-05"
      ],
      "text/latex": [
       "3.17290704084422e-05"
      ],
      "text/markdown": [
       "3.17290704084422e-05"
      ],
      "text/plain": [
       "[1] 3.172907e-05"
      ]
     },
     "metadata": {},
     "output_type": "display_data"
    }
   ],
   "source": [
    "pf(11.799,3,29,lower = FALSE)"
   ]
  },
  {
   "cell_type": "markdown",
   "metadata": {},
   "source": [
    "We therefore reject the null, and believe that the relationship is better explained with the alternative model. Of course, I don't think we should use the alternative model. We will use the other one. "
   ]
  },
  {
   "cell_type": "markdown",
   "metadata": {},
   "source": [
    "Let's get our predictions and replace the NA vals with them. "
   ]
  },
  {
   "cell_type": "code",
   "execution_count": 38,
   "metadata": {},
   "outputs": [],
   "source": [
    "R_new_preds = predict(model_R_new, subset(R_na, select = -c(R.SCORE, ID.)) )\n",
    "L_new_preds = predict(model_L_new, subset(L_na, select = -c(L.SCORE, ID.)))\n",
    "\n",
    "##insert predicted values\n",
    "R_na[,'R.SCORE'] = round(R_new_preds)\n",
    "L_na[,'L.SCORE'] = round(L_new_preds)\n",
    "#reset cleaned data variable\n",
    "cleaned_read = k_read[complete.cases(k_read),]\n",
    "#combine data frames\n",
    "filled_read = rbind(cleaned_read, R_na)\n",
    "filled_read = rbind(filled_read, L_na)\n",
    "rownames(filled_read) <- 1:nrow(filled_read)"
   ]
  },
  {
   "cell_type": "markdown",
   "metadata": {},
   "source": [
    "Alright, we'll use this one. I don't know how bad of practice it is to regress two variables on eachother, but this is better I believe than attempting to use DIEBLS to predict R.SCORE/L.SCORE.\"filled_read\" is our new data frame with non-na values."
   ]
  },
  {
   "cell_type": "code",
   "execution_count": 39,
   "metadata": {},
   "outputs": [
    {
     "data": {
      "text/html": [
       "<table>\n",
       "<caption>A data.frame: 6 × 6</caption>\n",
       "<thead>\n",
       "\t<tr><th></th><th scope=col>ID.</th><th scope=col>R.SCORE</th><th scope=col>L.SCORE</th><th scope=col>DIEBLS</th><th scope=col>INP</th><th scope=col>FARM_BIN</th></tr>\n",
       "\t<tr><th></th><th scope=col>&lt;int&gt;</th><th scope=col>&lt;dbl&gt;</th><th scope=col>&lt;dbl&gt;</th><th scope=col>&lt;int&gt;</th><th scope=col>&lt;int&gt;</th><th scope=col>&lt;int&gt;</th></tr>\n",
       "</thead>\n",
       "<tbody>\n",
       "\t<tr><th scope=row>1</th><td>1</td><td> 6</td><td>2</td><td>0</td><td>1</td><td>1</td></tr>\n",
       "\t<tr><th scope=row>2</th><td>2</td><td>11</td><td>3</td><td>0</td><td>1</td><td>1</td></tr>\n",
       "\t<tr><th scope=row>3</th><td>3</td><td> 7</td><td>5</td><td>0</td><td>1</td><td>1</td></tr>\n",
       "\t<tr><th scope=row>4</th><td>4</td><td>10</td><td>5</td><td>0</td><td>1</td><td>1</td></tr>\n",
       "\t<tr><th scope=row>5</th><td>6</td><td> 0</td><td>7</td><td>0</td><td>1</td><td>1</td></tr>\n",
       "\t<tr><th scope=row>6</th><td>7</td><td>19</td><td>7</td><td>0</td><td>1</td><td>1</td></tr>\n",
       "</tbody>\n",
       "</table>\n"
      ],
      "text/latex": [
       "A data.frame: 6 × 6\n",
       "\\begin{tabular}{r|llllll}\n",
       "  & ID. & R.SCORE & L.SCORE & DIEBLS & INP & FARM\\_BIN\\\\\n",
       "  & <int> & <dbl> & <dbl> & <int> & <int> & <int>\\\\\n",
       "\\hline\n",
       "\t1 & 1 &  6 & 2 & 0 & 1 & 1\\\\\n",
       "\t2 & 2 & 11 & 3 & 0 & 1 & 1\\\\\n",
       "\t3 & 3 &  7 & 5 & 0 & 1 & 1\\\\\n",
       "\t4 & 4 & 10 & 5 & 0 & 1 & 1\\\\\n",
       "\t5 & 6 &  0 & 7 & 0 & 1 & 1\\\\\n",
       "\t6 & 7 & 19 & 7 & 0 & 1 & 1\\\\\n",
       "\\end{tabular}\n"
      ],
      "text/markdown": [
       "\n",
       "A data.frame: 6 × 6\n",
       "\n",
       "| <!--/--> | ID. &lt;int&gt; | R.SCORE &lt;dbl&gt; | L.SCORE &lt;dbl&gt; | DIEBLS &lt;int&gt; | INP &lt;int&gt; | FARM_BIN &lt;int&gt; |\n",
       "|---|---|---|---|---|---|---|\n",
       "| 1 | 1 |  6 | 2 | 0 | 1 | 1 |\n",
       "| 2 | 2 | 11 | 3 | 0 | 1 | 1 |\n",
       "| 3 | 3 |  7 | 5 | 0 | 1 | 1 |\n",
       "| 4 | 4 | 10 | 5 | 0 | 1 | 1 |\n",
       "| 5 | 6 |  0 | 7 | 0 | 1 | 1 |\n",
       "| 6 | 7 | 19 | 7 | 0 | 1 | 1 |\n",
       "\n"
      ],
      "text/plain": [
       "  ID. R.SCORE L.SCORE DIEBLS INP FARM_BIN\n",
       "1 1    6      2       0      1   1       \n",
       "2 2   11      3       0      1   1       \n",
       "3 3    7      5       0      1   1       \n",
       "4 4   10      5       0      1   1       \n",
       "5 6    0      7       0      1   1       \n",
       "6 7   19      7       0      1   1       "
      ]
     },
     "metadata": {},
     "output_type": "display_data"
    }
   ],
   "source": [
    "head(filled_read)"
   ]
  },
  {
   "cell_type": "markdown",
   "metadata": {},
   "source": [
    "## Check if there is any statistical difference between RScore LScore by group"
   ]
  },
  {
   "cell_type": "code",
   "execution_count": 40,
   "metadata": {},
   "outputs": [
    {
     "data": {
      "image/png": "[encoded data removed]",
      "text/plain": [
       "Plot with title \"Histogram of filled_read_1[, \"R.SCORE\"]\""
      ]
     },
     "metadata": {
      "image/png": {
       "height": 420,
       "width": 420
      }
     },
     "output_type": "display_data"
    },
    {
     "data": {
      "image/png": "[encoded data removed]",
      "text/plain": [
       "Plot with title \"Histogram of filled_read_0[, \"R.SCORE\"]\""
      ]
     },
     "metadata": {
      "image/png": {
       "height": 420,
       "width": 420
      }
     },
     "output_type": "display_data"
    },
    {
     "data": {
      "image/png": "[encoded data removed]",
      "text/plain": [
       "Plot with title \"Histogram of filled_read_1[, \"L.SCORE\"]\""
      ]
     },
     "metadata": {
      "image/png": {
       "height": 420,
       "width": 420
      }
     },
     "output_type": "display_data"
    },
    {
     "data": {
      "image/png": "[encoded data removed]",
      "text/plain": [
       "Plot with title \"Histogram of filled_read_0[, \"L.SCORE\"]\""
      ]
     },
     "metadata": {
      "image/png": {
       "height": 420,
       "width": 420
      }
     },
     "output_type": "display_data"
    }
   ],
   "source": [
    "##using filled_read\n",
    "\n",
    "filled_read_1 = filled_read[filled_read['INP']==1,]\n",
    "filled_read_0 = filled_read[filled_read['INP']==0,]\n",
    "\n",
    "##check normality \n",
    "\n",
    "hist(filled_read_1[,'R.SCORE'])\n",
    "hist(filled_read_0[,'R.SCORE'])\n",
    "hist(filled_read_1[,'L.SCORE'])\n",
    "hist(filled_read_0[,'L.SCORE'])"
   ]
  },
  {
   "cell_type": "markdown",
   "metadata": {},
   "source": [
    "All of these look approximately normal, except the last histogram. While it might be bad practice to run t-tests on the last one it's not a crazy assumption to believe that the reading scores of a pre-kindergarten population will be asymptotically normal"
   ]
  },
  {
   "cell_type": "markdown",
   "metadata": {},
   "source": [
    "For the t-tests below, we have natural assumption that those with greater reading score belong in the group that don't find placement "
   ]
  },
  {
   "cell_type": "code",
   "execution_count": 41,
   "metadata": {},
   "outputs": [
    {
     "data": {
      "text/plain": [
       "\n",
       "\tWelch Two Sample t-test\n",
       "\n",
       "data:  filled_read_0[, \"R.SCORE\"] and filled_read_1[, \"R.SCORE\"]\n",
       "t = 7.9135, df = 87.474, p-value = 3.597e-12\n",
       "alternative hypothesis: true difference in means is greater than 0\n",
       "95 percent confidence interval:\n",
       " 4.136328      Inf\n",
       "sample estimates:\n",
       "mean of x mean of y \n",
       " 17.48276  12.24638 \n"
      ]
     },
     "metadata": {},
     "output_type": "display_data"
    },
    {
     "data": {
      "text/plain": [
       "\n",
       "\tWelch Two Sample t-test\n",
       "\n",
       "data:  filled_read_0[, \"L.SCORE\"] and filled_read_1[, \"L.SCORE\"]\n",
       "t = 9.8546, df = 97.967, p-value < 2.2e-16\n",
       "alternative hypothesis: true difference in means is greater than 0\n",
       "95 percent confidence interval:\n",
       " 4.563974      Inf\n",
       "sample estimates:\n",
       "mean of x mean of y \n",
       " 18.11207  12.62319 \n"
      ]
     },
     "metadata": {},
     "output_type": "display_data"
    }
   ],
   "source": [
    "t.test(filled_read_0[,'R.SCORE'],filled_read_1[,'R.SCORE'], alternative = 'greater')\n",
    "t.test(filled_read_0[,'L.SCORE'], filled_read_1[,'L.SCORE'], alternative = 'greater')"
   ]
  },
  {
   "cell_type": "markdown",
   "metadata": {},
   "source": [
    "With a 95% confidence level, in both, we have p-values which are **significantly** less than 0.05. We should expect good predictive power using R.SCORE and L.SCORE to predict DIEBLS. "
   ]
  },
  {
   "cell_type": "code",
   "execution_count": 42,
   "metadata": {},
   "outputs": [
    {
     "data": {
      "text/plain": [
       "\n",
       "\tWilcoxon rank sum test with continuity correction\n",
       "\n",
       "data:  filled_read_0[, \"R.SCORE\"] and filled_read_1[, \"R.SCORE\"]\n",
       "W = 6671.5, p-value = 1.332e-14\n",
       "alternative hypothesis: true location shift is greater than 0\n"
      ]
     },
     "metadata": {},
     "output_type": "display_data"
    }
   ],
   "source": [
    "wilcox.test(filled_read_0[,'R.SCORE'], y = filled_read_1[,'R.SCORE'], alternative = 'greater')"
   ]
  },
  {
   "cell_type": "code",
   "execution_count": 43,
   "metadata": {},
   "outputs": [
    {
     "data": {
      "text/plain": [
       "\n",
       "\tWilcoxon rank sum test with continuity correction\n",
       "\n",
       "data:  filled_read_0[, \"L.SCORE\"] and filled_read_1[, \"L.SCORE\"]\n",
       "W = 6933.5, p-value < 2.2e-16\n",
       "alternative hypothesis: true location shift is greater than 0\n"
      ]
     },
     "metadata": {},
     "output_type": "display_data"
    }
   ],
   "source": [
    "wilcox.test(filled_read_0[,'L.SCORE'], filled_read_1[,'L.SCORE'],alternative = 'greater')"
   ]
  },
  {
   "cell_type": "code",
   "execution_count": 44,
   "metadata": {},
   "outputs": [
    {
     "data": {
      "text/html": [
       "116"
      ],
      "text/latex": [
       "116"
      ],
      "text/markdown": [
       "116"
      ],
      "text/plain": [
       "[1] 116"
      ]
     },
     "metadata": {},
     "output_type": "display_data"
    }
   ],
   "source": [
    "length(filled_read_0[,'R.SCORE'])"
   ]
  },
  {
   "cell_type": "code",
   "execution_count": 45,
   "metadata": {},
   "outputs": [
    {
     "data": {
      "text/html": [
       "69"
      ],
      "text/latex": [
       "69"
      ],
      "text/markdown": [
       "69"
      ],
      "text/plain": [
       "[1] 69"
      ]
     },
     "metadata": {},
     "output_type": "display_data"
    }
   ],
   "source": [
    "length(filled_read_1[,'R.SCORE'])"
   ]
  },
  {
   "cell_type": "markdown",
   "metadata": {},
   "source": [
    "## Model Selection"
   ]
  },
  {
   "cell_type": "code",
   "execution_count": 46,
   "metadata": {},
   "outputs": [
    {
     "data": {
      "image/png": "[encoded data removed]",
      "text/plain": [
       "plot without title"
      ]
     },
     "metadata": {
      "image/png": {
       "height": 420,
       "width": 420
      }
     },
     "output_type": "display_data"
    }
   ],
   "source": [
    "plot(filled_read$R.SCORE, filled_read$DIEBLS) #weak positive linear trend except for all the 0's"
   ]
  },
  {
   "cell_type": "code",
   "execution_count": 47,
   "metadata": {},
   "outputs": [
    {
     "data": {
      "image/png": "[encoded data removed]",
      "text/plain": [
       "plot without title"
      ]
     },
     "metadata": {
      "image/png": {
       "height": 420,
       "width": 420
      }
     },
     "output_type": "display_data"
    }
   ],
   "source": [
    "plot(filled_read$L.SCORE, filled_read$DIEBLS) #weak positive linear trend except for the 0s"
   ]
  },
  {
   "cell_type": "markdown",
   "metadata": {},
   "source": [
    "### Full model"
   ]
  },
  {
   "cell_type": "markdown",
   "metadata": {},
   "source": [
    "Let's fit the full model first, using R.SCORE, L.SCORE, INP, and FARM_BIN, and see how good of covariates these are. Here, we are using \"filled_read\". First, remove the ID column and call this \"features_full\"."
   ]
  },
  {
   "cell_type": "code",
   "execution_count": 48,
   "metadata": {},
   "outputs": [],
   "source": [
    "features_full= subset(filled_read, select = -c(ID.,INP)) ##create features matrix from filled_read"
   ]
  },
  {
   "cell_type": "code",
   "execution_count": 49,
   "metadata": {},
   "outputs": [],
   "source": [
    "INP = filled_read$INP"
   ]
  },
  {
   "cell_type": "markdown",
   "metadata": {},
   "source": [
    "We use the constants from earlier for the indices/sizes. We'll set a different seed though. "
   ]
  },
  {
   "cell_type": "code",
   "execution_count": 50,
   "metadata": {},
   "outputs": [],
   "source": [
    "invisible(num_rows) ##CONSTANT\n",
    "set.seed(1) #different seed\n",
    "sampled_fill = sample(num_rows) \n",
    "invisible(test_size) ##CONSTANT\n",
    "invisible(train_size) ##CONSTANT\n",
    "train_index_fill = sampled_fill[1:train_size] \n",
    "test_index_fill = sampled_fill[(train_size + 1): nrow(cleaned_read)] ##CONSTANT\n",
    "\n",
    "train_set_fill = features_full[train_index_fill,]  #train and test sets \n",
    "test_set_fill = features_full[test_index_fill,] "
   ]
  },
  {
   "cell_type": "code",
   "execution_count": 51,
   "metadata": {},
   "outputs": [
    {
     "data": {
      "text/html": [
       "<style>\n",
       ".list-inline {list-style: none; margin:0; padding: 0}\n",
       ".list-inline>li {display: inline-block}\n",
       ".list-inline>li:not(:last-child)::after {content: \"\\00b7\"; padding: 0 .5ex}\n",
       "</style>\n",
       "<ol class=list-inline><li>0</li><li>0</li><li>0</li><li>0</li><li>1</li><li>1</li><li>0</li><li>0</li><li>0</li><li>0</li><li>1</li><li>0</li><li>1</li><li>1</li><li>0</li><li>0</li><li>0</li><li>1</li><li>0</li><li>1</li><li>0</li><li>1</li><li>1</li><li>0</li><li>1</li><li>0</li><li>1</li><li>0</li><li>1</li><li>0</li><li>0</li><li>0</li><li>0</li><li>0</li></ol>\n"
      ],
      "text/latex": [
       "\\begin{enumerate*}\n",
       "\\item 0\n",
       "\\item 0\n",
       "\\item 0\n",
       "\\item 0\n",
       "\\item 1\n",
       "\\item 1\n",
       "\\item 0\n",
       "\\item 0\n",
       "\\item 0\n",
       "\\item 0\n",
       "\\item 1\n",
       "\\item 0\n",
       "\\item 1\n",
       "\\item 1\n",
       "\\item 0\n",
       "\\item 0\n",
       "\\item 0\n",
       "\\item 1\n",
       "\\item 0\n",
       "\\item 1\n",
       "\\item 0\n",
       "\\item 1\n",
       "\\item 1\n",
       "\\item 0\n",
       "\\item 1\n",
       "\\item 0\n",
       "\\item 1\n",
       "\\item 0\n",
       "\\item 1\n",
       "\\item 0\n",
       "\\item 0\n",
       "\\item 0\n",
       "\\item 0\n",
       "\\item 0\n",
       "\\end{enumerate*}\n"
      ],
      "text/markdown": [
       "1. 0\n",
       "2. 0\n",
       "3. 0\n",
       "4. 0\n",
       "5. 1\n",
       "6. 1\n",
       "7. 0\n",
       "8. 0\n",
       "9. 0\n",
       "10. 0\n",
       "11. 1\n",
       "12. 0\n",
       "13. 1\n",
       "14. 1\n",
       "15. 0\n",
       "16. 0\n",
       "17. 0\n",
       "18. 1\n",
       "19. 0\n",
       "20. 1\n",
       "21. 0\n",
       "22. 1\n",
       "23. 1\n",
       "24. 0\n",
       "25. 1\n",
       "26. 0\n",
       "27. 1\n",
       "28. 0\n",
       "29. 1\n",
       "30. 0\n",
       "31. 0\n",
       "32. 0\n",
       "33. 0\n",
       "34. 0\n",
       "\n",
       "\n"
      ],
      "text/plain": [
       " [1] 0 0 0 0 1 1 0 0 0 0 1 0 1 1 0 0 0 1 0 1 0 1 1 0 1 0 1 0 1 0 0 0 0 0"
      ]
     },
     "metadata": {},
     "output_type": "display_data"
    }
   ],
   "source": [
    "filled_read[test_index_fill,]$INP"
   ]
  },
  {
   "cell_type": "code",
   "execution_count": 53,
   "metadata": {},
   "outputs": [],
   "source": [
    "INP_train = filled_read[train_index_fill,]$INP\n",
    "INP_test = filled_read[test_index_fill,]$INP"
   ]
  },
  {
   "cell_type": "markdown",
   "metadata": {},
   "source": [
    "We have separated our train/test sets, so let's use CV to determine the validation errors of a full model first. We'll feed in both RSS and RSE as scoring metrics, setting a seed to maintain that we're getting the same folds. "
   ]
  },
  {
   "cell_type": "code",
   "execution_count": 54,
   "metadata": {},
   "outputs": [],
   "source": [
    "full_fit = lm(DIEBLS~., train_set_fill, x = TRUE, y = TRUE)"
   ]
  },
  {
   "cell_type": "code",
   "execution_count": 55,
   "metadata": {},
   "outputs": [],
   "source": [
    "cv_full_rsqd = cv.lm(full_fit, k = 5, fun = rsqd, seed = 23) ##set different seed "
   ]
  },
  {
   "cell_type": "code",
   "execution_count": 56,
   "metadata": {},
   "outputs": [],
   "source": [
    "cv_full_rse = cv.lm(full_fit,  k = 5, fun = rse, seed = 23)"
   ]
  },
  {
   "cell_type": "code",
   "execution_count": 57,
   "metadata": {},
   "outputs": [
    {
     "data": {
      "text/plain": [
       "Mean absolute error        :  7.717329 \n",
       "Sample standard deviation  :  0.8457575 \n",
       "\n",
       "Mean squared error         :  91.45073 \n",
       "Sample standard deviation  :  18.81876 \n",
       "\n",
       "Root mean squared error    :  9.522736 \n",
       "Sample standard deviation  :  0.9799461 \n",
       "\n",
       "User supplied function     :  0.4528572 \n",
       "Sample standard deviation  :  0.112877 \n"
      ]
     },
     "metadata": {},
     "output_type": "display_data"
    }
   ],
   "source": [
    "##Mean R^2 is 45%! Not much variance explained. \n",
    "cv_full_rsqd"
   ]
  },
  {
   "cell_type": "code",
   "execution_count": 58,
   "metadata": {},
   "outputs": [
    {
     "data": {
      "text/plain": [
       "Mean absolute error        :  7.717329 \n",
       "Sample standard deviation  :  0.8457575 \n",
       "\n",
       "Mean squared error         :  91.45073 \n",
       "Sample standard deviation  :  18.81876 \n",
       "\n",
       "Root mean squared error    :  9.522736 \n",
       "Sample standard deviation  :  0.9799461 \n",
       "\n",
       "User supplied function     :  10.31762 \n",
       "Sample standard deviation  :  1.061745 \n"
      ]
     },
     "metadata": {},
     "output_type": "display_data"
    }
   ],
   "source": [
    "##Mean RS is 9. Note great. \n",
    "cv_full_rse"
   ]
  },
  {
   "cell_type": "markdown",
   "metadata": {},
   "source": [
    "Let's predict on our test test, compute R^2, RSS, RSE, MSE, and TSS. "
   ]
  },
  {
   "cell_type": "code",
   "execution_count": 59,
   "metadata": {},
   "outputs": [],
   "source": [
    "preds_full = predict(full_fit, subset(test_set_fill, select = -c(DIEBLS)))\n",
    "RSS_full = (preds_full - test_set_fill$DIEBLS)%*%(preds_full-test_set_fill$DIEBLS)\n",
    "TSS_full = (test_set_fill$DIEBLS - mean(test_set_fill$DIEBLS))%*%(test_set_fill$DIEBLS- mean(test_set_fill$DIEBLS))\n",
    "R2_full = 1 - RSS_full/TSS_full\n",
    "RSE_full = sqrt(RSS_full/(length(preds_full) - length(coefficients(full_fit)-1)))\n",
    "MSE_full = RSS_full/length(preds_full)"
   ]
  },
  {
   "cell_type": "code",
   "execution_count": 60,
   "metadata": {},
   "outputs": [],
   "source": [
    "full_fit_coef = coef(full_fit)"
   ]
  },
  {
   "cell_type": "code",
   "execution_count": 61,
   "metadata": {},
   "outputs": [
    {
     "data": {
      "text/html": [
       "<style>\n",
       ".dl-inline {width: auto; margin:0; padding: 0}\n",
       ".dl-inline>dt, .dl-inline>dd {float: none; width: auto; display: inline-block}\n",
       ".dl-inline>dt::after {content: \":\\0020\"; padding-right: .5ex}\n",
       ".dl-inline>dt:not(:first-of-type) {padding-left: .5ex}\n",
       "</style><dl class=dl-inline><dt>(Intercept)</dt><dd>-18.9131905525481</dd><dt>R.SCORE</dt><dd>1.15634799931682</dd><dt>L.SCORE</dt><dd>1.23235286333114</dd><dt>FARM_BIN</dt><dd>0.0171337679086991</dd></dl>\n"
      ],
      "text/latex": [
       "\\begin{description*}\n",
       "\\item[(Intercept)] -18.9131905525481\n",
       "\\item[R.SCORE] 1.15634799931682\n",
       "\\item[L.SCORE] 1.23235286333114\n",
       "\\item[FARM\\textbackslash{}\\_BIN] 0.0171337679086991\n",
       "\\end{description*}\n"
      ],
      "text/markdown": [
       "(Intercept)\n",
       ":   -18.9131905525481R.SCORE\n",
       ":   1.15634799931682L.SCORE\n",
       ":   1.23235286333114FARM_BIN\n",
       ":   0.0171337679086991\n",
       "\n"
      ],
      "text/plain": [
       " (Intercept)      R.SCORE      L.SCORE     FARM_BIN \n",
       "-18.91319055   1.15634800   1.23235286   0.01713377 "
      ]
     },
     "metadata": {},
     "output_type": "display_data"
    }
   ],
   "source": [
    "full_fit_coef"
   ]
  },
  {
   "cell_type": "code",
   "execution_count": 62,
   "metadata": {},
   "outputs": [],
   "source": [
    "full_stats = c(RSS_full, TSS_full, R2_full, RSE_full, MSE_full) "
   ]
  },
  {
   "cell_type": "code",
   "execution_count": 63,
   "metadata": {},
   "outputs": [
    {
     "data": {
      "text/html": [
       "<style>\n",
       ".list-inline {list-style: none; margin:0; padding: 0}\n",
       ".list-inline>li {display: inline-block}\n",
       ".list-inline>li:not(:last-child)::after {content: \"\\00b7\"; padding: 0 .5ex}\n",
       "</style>\n",
       "<ol class=list-inline><li>2860.47471980569</li><li>5824.5</li><li>0.50888922314264</li><li>9.76468931030867</li><li>84.1316094060498</li></ol>\n"
      ],
      "text/latex": [
       "\\begin{enumerate*}\n",
       "\\item 2860.47471980569\n",
       "\\item 5824.5\n",
       "\\item 0.50888922314264\n",
       "\\item 9.76468931030867\n",
       "\\item 84.1316094060498\n",
       "\\end{enumerate*}\n"
      ],
      "text/markdown": [
       "1. 2860.47471980569\n",
       "2. 5824.5\n",
       "3. 0.50888922314264\n",
       "4. 9.76468931030867\n",
       "5. 84.1316094060498\n",
       "\n",
       "\n"
      ],
      "text/plain": [
       "[1] 2860.4747198 5824.5000000    0.5088892    9.7646893   84.1316094"
      ]
     },
     "metadata": {},
     "output_type": "display_data"
    }
   ],
   "source": [
    "full_stats ##R^2 on test set is 50%"
   ]
  },
  {
   "cell_type": "markdown",
   "metadata": {},
   "source": [
    "After making our predictions, we now check if we accurately predicted the INP for students. "
   ]
  },
  {
   "cell_type": "code",
   "execution_count": 151,
   "metadata": {},
   "outputs": [
    {
     "data": {
      "text/html": [
       "7"
      ],
      "text/latex": [
       "7"
      ],
      "text/markdown": [
       "7"
      ],
      "text/plain": [
       "[1] 7"
      ]
     },
     "metadata": {},
     "output_type": "display_data"
    }
   ],
   "source": [
    "sum(as.integer(preds_full <= 13)) #how many did we enroll in extra help"
   ]
  },
  {
   "cell_type": "code",
   "execution_count": 160,
   "metadata": {},
   "outputs": [],
   "source": [
    "inp_pred = as.integer(preds_full <= 13) ##assign the binary vector of INP"
   ]
  },
  {
   "cell_type": "code",
   "execution_count": 161,
   "metadata": {},
   "outputs": [
    {
     "data": {
      "text/html": [
       "<style>\n",
       ".list-inline {list-style: none; margin:0; padding: 0}\n",
       ".list-inline>li {display: inline-block}\n",
       ".list-inline>li:not(:last-child)::after {content: \"\\00b7\"; padding: 0 .5ex}\n",
       "</style>\n",
       "<ol class=list-inline><li>0</li><li>0</li><li>0</li><li>0</li><li>1</li><li>1</li><li>0</li><li>0</li><li>0</li><li>0</li><li>1</li><li>0</li><li>1</li><li>1</li><li>0</li><li>0</li><li>0</li><li>1</li><li>0</li><li>1</li><li>0</li><li>1</li><li>1</li><li>0</li><li>1</li><li>0</li><li>1</li><li>0</li><li>1</li><li>0</li><li>0</li><li>0</li><li>0</li><li>0</li></ol>\n"
      ],
      "text/latex": [
       "\\begin{enumerate*}\n",
       "\\item 0\n",
       "\\item 0\n",
       "\\item 0\n",
       "\\item 0\n",
       "\\item 1\n",
       "\\item 1\n",
       "\\item 0\n",
       "\\item 0\n",
       "\\item 0\n",
       "\\item 0\n",
       "\\item 1\n",
       "\\item 0\n",
       "\\item 1\n",
       "\\item 1\n",
       "\\item 0\n",
       "\\item 0\n",
       "\\item 0\n",
       "\\item 1\n",
       "\\item 0\n",
       "\\item 1\n",
       "\\item 0\n",
       "\\item 1\n",
       "\\item 1\n",
       "\\item 0\n",
       "\\item 1\n",
       "\\item 0\n",
       "\\item 1\n",
       "\\item 0\n",
       "\\item 1\n",
       "\\item 0\n",
       "\\item 0\n",
       "\\item 0\n",
       "\\item 0\n",
       "\\item 0\n",
       "\\end{enumerate*}\n"
      ],
      "text/markdown": [
       "1. 0\n",
       "2. 0\n",
       "3. 0\n",
       "4. 0\n",
       "5. 1\n",
       "6. 1\n",
       "7. 0\n",
       "8. 0\n",
       "9. 0\n",
       "10. 0\n",
       "11. 1\n",
       "12. 0\n",
       "13. 1\n",
       "14. 1\n",
       "15. 0\n",
       "16. 0\n",
       "17. 0\n",
       "18. 1\n",
       "19. 0\n",
       "20. 1\n",
       "21. 0\n",
       "22. 1\n",
       "23. 1\n",
       "24. 0\n",
       "25. 1\n",
       "26. 0\n",
       "27. 1\n",
       "28. 0\n",
       "29. 1\n",
       "30. 0\n",
       "31. 0\n",
       "32. 0\n",
       "33. 0\n",
       "34. 0\n",
       "\n",
       "\n"
      ],
      "text/plain": [
       " [1] 0 0 0 0 1 1 0 0 0 0 1 0 1 1 0 0 0 1 0 1 0 1 1 0 1 0 1 0 1 0 0 0 0 0"
      ]
     },
     "metadata": {},
     "output_type": "display_data"
    }
   ],
   "source": [
    "INP_test #check the actual INP assignments"
   ]
  },
  {
   "cell_type": "code",
   "execution_count": 162,
   "metadata": {},
   "outputs": [
    {
     "data": {
      "text/html": [
       "29"
      ],
      "text/latex": [
       "29"
      ],
      "text/markdown": [
       "29"
      ],
      "text/plain": [
       "[1] 29"
      ]
     },
     "metadata": {},
     "output_type": "display_data"
    }
   ],
   "source": [
    "sum(as.integer(inp_pred == INP_test)) #how many did we assign correctly?"
   ]
  },
  {
   "cell_type": "code",
   "execution_count": 163,
   "metadata": {},
   "outputs": [
    {
     "data": {
      "text/html": [
       "0.852941176470588"
      ],
      "text/latex": [
       "0.852941176470588"
      ],
      "text/markdown": [
       "0.852941176470588"
      ],
      "text/plain": [
       "[1] 0.8529412"
      ]
     },
     "metadata": {},
     "output_type": "display_data"
    }
   ],
   "source": [
    "29/34 #what is our percentage?"
   ]
  },
  {
   "cell_type": "code",
   "execution_count": 136,
   "metadata": {},
   "outputs": [
    {
     "data": {
      "text/html": [
       "<style>\n",
       ".dl-inline {width: auto; margin:0; padding: 0}\n",
       ".dl-inline>dt, .dl-inline>dd {float: none; width: auto; display: inline-block}\n",
       ".dl-inline>dt::after {content: \":\\0020\"; padding-right: .5ex}\n",
       ".dl-inline>dt:not(:first-of-type) {padding-left: .5ex}\n",
       "</style><dl class=dl-inline><dt>92</dt><dd>24.0245538790094</dd><dt>146</dt><dd>26.4132547416574</dd><dt>112</dt><dd>24.0245538790094</dd><dt>62</dt><dd>25.2569067423406</dd><dt>11</dt><dd>7.21050920855075</dd><dt>57</dt><dd>15.6849695238401</dd><dt>66</dt><dd>22.8682058796926</dd><dt>130</dt><dd>27.7216124690029</dd><dt>97</dt><dd>26.565264469686</dd><dt>91</dt><dd>22.7750672477696</dd><dt>30</dt><dd>23.8725441509808</dd><dt>114</dt><dd>28.9368315644253</dd><dt>8</dt><dd>7.15163811244513</dd><dt>9</dt><dd>6.07129497714263</dd><dt>128</dt><dd>25.3329116063549</dd><dt>155</dt><dd>26.5481307017773</dd><dt>157</dt><dd>23.0202156077213</dd><dt>5</dt><dd>-10.2695867413215</dd><dt>95</dt><dd>24.1765636070381</dd><dt>32</dt><dd>15.5500935637201</dd><dt>96</dt><dd>28.8019556043054</dd><dt>50</dt><dd>9.76835356713604</dd><dt>12</dt><dd>-6.57252815132806</dd><dt>88</dt><dd>22.9442107437069</dd><dt>4</dt><dd>-1.17081247481555</dd><dt>94</dt><dd>23.0202156077213</dd><dt>38</dt><dd>19.2300183858048</dd><dt>63</dt><dd>14.4526166605089</dd><dt>56</dt><dd>21.7878627443901</dd><dt>170</dt><dd>28.8779604683197</dd><dt>117</dt><dd>21.6358530163615</dd><dt>71</dt><dd>19.3060232498192</dd><dt>136</dt><dd>16.8413175231569</dd><dt>152</dt><dd>18.0908041543967</dd></dl>\n"
      ],
      "text/latex": [
       "\\begin{description*}\n",
       "\\item[92] 24.0245538790094\n",
       "\\item[146] 26.4132547416574\n",
       "\\item[112] 24.0245538790094\n",
       "\\item[62] 25.2569067423406\n",
       "\\item[11] 7.21050920855075\n",
       "\\item[57] 15.6849695238401\n",
       "\\item[66] 22.8682058796926\n",
       "\\item[130] 27.7216124690029\n",
       "\\item[97] 26.565264469686\n",
       "\\item[91] 22.7750672477696\n",
       "\\item[30] 23.8725441509808\n",
       "\\item[114] 28.9368315644253\n",
       "\\item[8] 7.15163811244513\n",
       "\\item[9] 6.07129497714263\n",
       "\\item[128] 25.3329116063549\n",
       "\\item[155] 26.5481307017773\n",
       "\\item[157] 23.0202156077213\n",
       "\\item[5] -10.2695867413215\n",
       "\\item[95] 24.1765636070381\n",
       "\\item[32] 15.5500935637201\n",
       "\\item[96] 28.8019556043054\n",
       "\\item[50] 9.76835356713604\n",
       "\\item[12] -6.57252815132806\n",
       "\\item[88] 22.9442107437069\n",
       "\\item[4] -1.17081247481555\n",
       "\\item[94] 23.0202156077213\n",
       "\\item[38] 19.2300183858048\n",
       "\\item[63] 14.4526166605089\n",
       "\\item[56] 21.7878627443901\n",
       "\\item[170] 28.8779604683197\n",
       "\\item[117] 21.6358530163615\n",
       "\\item[71] 19.3060232498192\n",
       "\\item[136] 16.8413175231569\n",
       "\\item[152] 18.0908041543967\n",
       "\\end{description*}\n"
      ],
      "text/markdown": [
       "92\n",
       ":   24.0245538790094146\n",
       ":   26.4132547416574112\n",
       ":   24.024553879009462\n",
       ":   25.256906742340611\n",
       ":   7.2105092085507557\n",
       ":   15.684969523840166\n",
       ":   22.8682058796926130\n",
       ":   27.721612469002997\n",
       ":   26.56526446968691\n",
       ":   22.775067247769630\n",
       ":   23.8725441509808114\n",
       ":   28.93683156442538\n",
       ":   7.151638112445139\n",
       ":   6.07129497714263128\n",
       ":   25.3329116063549155\n",
       ":   26.5481307017773157\n",
       ":   23.02021560772135\n",
       ":   -10.269586741321595\n",
       ":   24.176563607038132\n",
       ":   15.550093563720196\n",
       ":   28.801955604305450\n",
       ":   9.7683535671360412\n",
       ":   -6.5725281513280688\n",
       ":   22.94421074370694\n",
       ":   -1.1708124748155594\n",
       ":   23.020215607721338\n",
       ":   19.230018385804863\n",
       ":   14.452616660508956\n",
       ":   21.7878627443901170\n",
       ":   28.8779604683197117\n",
       ":   21.635853016361571\n",
       ":   19.3060232498192136\n",
       ":   16.8413175231569152\n",
       ":   18.0908041543967\n",
       "\n"
      ],
      "text/plain": [
       "        92        146        112         62         11         57         66 \n",
       " 24.024554  26.413255  24.024554  25.256907   7.210509  15.684970  22.868206 \n",
       "       130         97         91         30        114          8          9 \n",
       " 27.721612  26.565264  22.775067  23.872544  28.936832   7.151638   6.071295 \n",
       "       128        155        157          5         95         32         96 \n",
       " 25.332912  26.548131  23.020216 -10.269587  24.176564  15.550094  28.801956 \n",
       "        50         12         88          4         94         38         63 \n",
       "  9.768354  -6.572528  22.944211  -1.170812  23.020216  19.230018  14.452617 \n",
       "        56        170        117         71        136        152 \n",
       " 21.787863  28.877960  21.635853  19.306023  16.841318  18.090804 "
      ]
     },
     "metadata": {},
     "output_type": "display_data"
    }
   ],
   "source": [
    "preds_full"
   ]
  },
  {
   "cell_type": "markdown",
   "metadata": {},
   "source": [
    "### Ridge"
   ]
  },
  {
   "cell_type": "markdown",
   "metadata": {},
   "source": [
    "Next, let's use lasso and ridge models to penalize some of the covariates. First, ridge."
   ]
  },
  {
   "cell_type": "code",
   "execution_count": 166,
   "metadata": {},
   "outputs": [],
   "source": [
    "lambdas = 10^seq(6, -6, by = -.1)\n",
    "set.seed(0)\n",
    "ridge_cv = cv.glmnet(as.matrix(subset(train_set_fill, select = -c(DIEBLS))), as.matrix(train_set_fill$DIEBLS), alpha = 0, lambda  = lambdas)"
   ]
  },
  {
   "cell_type": "code",
   "execution_count": 167,
   "metadata": {},
   "outputs": [
    {
     "data": {
      "text/html": [
       "1"
      ],
      "text/latex": [
       "1"
      ],
      "text/markdown": [
       "1"
      ],
      "text/plain": [
       "[1] 1"
      ]
     },
     "metadata": {},
     "output_type": "display_data"
    }
   ],
   "source": [
    "ridge_cv$lambda.min"
   ]
  },
  {
   "cell_type": "code",
   "execution_count": 168,
   "metadata": {},
   "outputs": [],
   "source": [
    "set.seed(0)\n",
    "ridge_fit <- glmnet(as.matrix(subset(train_set_fill, select = -c(DIEBLS))),as.matrix(train_set_fill$DIEBLS), alpha = 0, lambda = ridge_cv$lambda.min)"
   ]
  },
  {
   "cell_type": "code",
   "execution_count": 169,
   "metadata": {},
   "outputs": [],
   "source": [
    "#Get RSS"
   ]
  },
  {
   "cell_type": "code",
   "execution_count": 170,
   "metadata": {},
   "outputs": [],
   "source": [
    "rid_fit_coef = coef(ridge_fit)"
   ]
  },
  {
   "cell_type": "markdown",
   "metadata": {},
   "source": [
    "Let's compute R^2, RSS, RSE, MSE, TSS. "
   ]
  },
  {
   "cell_type": "code",
   "execution_count": 171,
   "metadata": {},
   "outputs": [],
   "source": [
    "preds_ridge = predict(ridge_fit, as.matrix(subset(test_set_fill, select = -c(DIEBLS))))\n",
    "RSS_rid = (as.vector(preds_ridge) - test_set_fill$DIEBLS)%*%(as.vector(preds_ridge)-test_set_fill$DIEBLS)\n",
    "TSS_rid = (test_set_fill$DIEBLS - mean(test_set_fill$DIEBLS))%*%(test_set_fill$DIEBLS- mean(test_set_fill$DIEBLS))\n",
    "R2_rid = 1 - RSS_rid/TSS_rid\n",
    "RSE_rid = sqrt(RSS_rid/(length(preds_ridge)-length(coefficients(ridge_fit)-1)))\n",
    "MSE_rid = RSS_rid/length(preds_ridge)"
   ]
  },
  {
   "cell_type": "code",
   "execution_count": 172,
   "metadata": {},
   "outputs": [],
   "source": [
    "ridge_stats = c(RSS_rid, TSS_rid, R2_rid, RSE_rid, MSE_rid) "
   ]
  },
  {
   "cell_type": "code",
   "execution_count": 173,
   "metadata": {},
   "outputs": [
    {
     "data": {
      "text/html": [
       "<style>\n",
       ".list-inline {list-style: none; margin:0; padding: 0}\n",
       ".list-inline>li {display: inline-block}\n",
       ".list-inline>li:not(:last-child)::after {content: \"\\00b7\"; padding: 0 .5ex}\n",
       "</style>\n",
       "<ol class=list-inline><li>2853.04153276127</li><li>5824.5</li><li>0.510165416299893</li><li>9.75199386922366</li><li>83.9129862576845</li></ol>\n"
      ],
      "text/latex": [
       "\\begin{enumerate*}\n",
       "\\item 2853.04153276127\n",
       "\\item 5824.5\n",
       "\\item 0.510165416299893\n",
       "\\item 9.75199386922366\n",
       "\\item 83.9129862576845\n",
       "\\end{enumerate*}\n"
      ],
      "text/markdown": [
       "1. 2853.04153276127\n",
       "2. 5824.5\n",
       "3. 0.510165416299893\n",
       "4. 9.75199386922366\n",
       "5. 83.9129862576845\n",
       "\n",
       "\n"
      ],
      "text/plain": [
       "[1] 2853.0415328 5824.5000000    0.5101654    9.7519939   83.9129863"
      ]
     },
     "metadata": {},
     "output_type": "display_data"
    }
   ],
   "source": [
    "ridge_stats ##R^2 51%"
   ]
  },
  {
   "cell_type": "code",
   "execution_count": 178,
   "metadata": {},
   "outputs": [
    {
     "data": {
      "text/html": [
       "7"
      ],
      "text/latex": [
       "7"
      ],
      "text/markdown": [
       "7"
      ],
      "text/plain": [
       "[1] 7"
      ]
     },
     "metadata": {},
     "output_type": "display_data"
    }
   ],
   "source": [
    "sum(as.integer(preds_ridge <= 13))"
   ]
  },
  {
   "cell_type": "code",
   "execution_count": 180,
   "metadata": {},
   "outputs": [],
   "source": [
    "inp_pred_ridge = as.integer(preds_ridge <= 13) #assign binary vector for INP"
   ]
  },
  {
   "cell_type": "code",
   "execution_count": 183,
   "metadata": {},
   "outputs": [
    {
     "data": {
      "text/html": [
       "29"
      ],
      "text/latex": [
       "29"
      ],
      "text/markdown": [
       "29"
      ],
      "text/plain": [
       "[1] 29"
      ]
     },
     "metadata": {},
     "output_type": "display_data"
    }
   ],
   "source": [
    "sum(as.integer(inp_pred_ridge == INP_test)) #how many did we get correct"
   ]
  },
  {
   "cell_type": "code",
   "execution_count": 182,
   "metadata": {},
   "outputs": [
    {
     "data": {
      "text/html": [
       "0.852941176470588"
      ],
      "text/latex": [
       "0.852941176470588"
      ],
      "text/markdown": [
       "0.852941176470588"
      ],
      "text/plain": [
       "[1] 0.8529412"
      ]
     },
     "metadata": {},
     "output_type": "display_data"
    }
   ],
   "source": [
    "29/34 #correct percentage"
   ]
  },
  {
   "cell_type": "code",
   "execution_count": 184,
   "metadata": {},
   "outputs": [
    {
     "data": {
      "text/html": [
       "<style>\n",
       ".list-inline {list-style: none; margin:0; padding: 0}\n",
       ".list-inline>li {display: inline-block}\n",
       ".list-inline>li:not(:last-child)::after {content: \"\\00b7\"; padding: 0 .5ex}\n",
       "</style>\n",
       "<ol class=list-inline><li>TRUE</li><li>TRUE</li><li>TRUE</li><li>TRUE</li><li>TRUE</li><li>TRUE</li><li>TRUE</li><li>TRUE</li><li>TRUE</li><li>TRUE</li><li>TRUE</li><li>TRUE</li><li>TRUE</li><li>TRUE</li><li>TRUE</li><li>TRUE</li><li>TRUE</li><li>TRUE</li><li>TRUE</li><li>TRUE</li><li>TRUE</li><li>TRUE</li><li>TRUE</li><li>TRUE</li><li>TRUE</li><li>TRUE</li><li>TRUE</li><li>TRUE</li><li>TRUE</li><li>TRUE</li><li>TRUE</li><li>TRUE</li><li>TRUE</li><li>TRUE</li></ol>\n"
      ],
      "text/latex": [
       "\\begin{enumerate*}\n",
       "\\item TRUE\n",
       "\\item TRUE\n",
       "\\item TRUE\n",
       "\\item TRUE\n",
       "\\item TRUE\n",
       "\\item TRUE\n",
       "\\item TRUE\n",
       "\\item TRUE\n",
       "\\item TRUE\n",
       "\\item TRUE\n",
       "\\item TRUE\n",
       "\\item TRUE\n",
       "\\item TRUE\n",
       "\\item TRUE\n",
       "\\item TRUE\n",
       "\\item TRUE\n",
       "\\item TRUE\n",
       "\\item TRUE\n",
       "\\item TRUE\n",
       "\\item TRUE\n",
       "\\item TRUE\n",
       "\\item TRUE\n",
       "\\item TRUE\n",
       "\\item TRUE\n",
       "\\item TRUE\n",
       "\\item TRUE\n",
       "\\item TRUE\n",
       "\\item TRUE\n",
       "\\item TRUE\n",
       "\\item TRUE\n",
       "\\item TRUE\n",
       "\\item TRUE\n",
       "\\item TRUE\n",
       "\\item TRUE\n",
       "\\end{enumerate*}\n"
      ],
      "text/markdown": [
       "1. TRUE\n",
       "2. TRUE\n",
       "3. TRUE\n",
       "4. TRUE\n",
       "5. TRUE\n",
       "6. TRUE\n",
       "7. TRUE\n",
       "8. TRUE\n",
       "9. TRUE\n",
       "10. TRUE\n",
       "11. TRUE\n",
       "12. TRUE\n",
       "13. TRUE\n",
       "14. TRUE\n",
       "15. TRUE\n",
       "16. TRUE\n",
       "17. TRUE\n",
       "18. TRUE\n",
       "19. TRUE\n",
       "20. TRUE\n",
       "21. TRUE\n",
       "22. TRUE\n",
       "23. TRUE\n",
       "24. TRUE\n",
       "25. TRUE\n",
       "26. TRUE\n",
       "27. TRUE\n",
       "28. TRUE\n",
       "29. TRUE\n",
       "30. TRUE\n",
       "31. TRUE\n",
       "32. TRUE\n",
       "33. TRUE\n",
       "34. TRUE\n",
       "\n",
       "\n"
      ],
      "text/plain": [
       " [1] TRUE TRUE TRUE TRUE TRUE TRUE TRUE TRUE TRUE TRUE TRUE TRUE TRUE TRUE TRUE\n",
       "[16] TRUE TRUE TRUE TRUE TRUE TRUE TRUE TRUE TRUE TRUE TRUE TRUE TRUE TRUE TRUE\n",
       "[31] TRUE TRUE TRUE TRUE"
      ]
     },
     "metadata": {},
     "output_type": "display_data"
    }
   ],
   "source": [
    "as.integer(preds_ridge <= 13) == as.integer(preds_full <= 13) ##same predictions as the full model"
   ]
  },
  {
   "cell_type": "code",
   "execution_count": 186,
   "metadata": {},
   "outputs": [
    {
     "data": {
      "text/html": [
       "<table>\n",
       "<caption>A matrix: 34 × 1 of type dbl</caption>\n",
       "<thead>\n",
       "\t<tr><th></th><th scope=col>s0</th></tr>\n",
       "</thead>\n",
       "<tbody>\n",
       "\t<tr><th scope=row>92</th><td>23.6559324</td></tr>\n",
       "\t<tr><th scope=row>146</th><td>25.9229901</td></tr>\n",
       "\t<tr><th scope=row>112</th><td>23.6559324</td></tr>\n",
       "\t<tr><th scope=row>62</th><td>24.8271193</td></tr>\n",
       "\t<tr><th scope=row>11</th><td> 7.9730247</td></tr>\n",
       "\t<tr><th scope=row>57</th><td>16.0207005</td></tr>\n",
       "\t<tr><th scope=row>66</th><td>22.5600617</td></tr>\n",
       "\t<tr><th scope=row>130</th><td>27.1694930</td></tr>\n",
       "\t<tr><th scope=row>97</th><td>26.0736223</td></tr>\n",
       "\t<tr><th scope=row>91</th><td>22.7465573</td></tr>\n",
       "\t<tr><th scope=row>30</th><td>23.5053002</td></tr>\n",
       "\t<tr><th scope=row>114</th><td>28.6024916</td></tr>\n",
       "\t<tr><th scope=row>8</th><td> 7.6358969</td></tr>\n",
       "\t<tr><th scope=row>9</th><td> 6.6153422</td></tr>\n",
       "\t<tr><th scope=row>128</th><td>24.9024354</td></tr>\n",
       "\t<tr><th scope=row>155</th><td>26.3354340</td></tr>\n",
       "\t<tr><th scope=row>157</th><td>22.7106939</td></tr>\n",
       "\t<tr><th scope=row>5</th><td>-8.8774806</td></tr>\n",
       "\t<tr><th scope=row>95</th><td>23.8065646</td></tr>\n",
       "\t<tr><th scope=row>32</th><td>15.6082566</td></tr>\n",
       "\t<tr><th scope=row>96</th><td>28.1900477</td></tr>\n",
       "\t<tr><th scope=row>50</th><td>10.1289028</td></tr>\n",
       "\t<tr><th scope=row>12</th><td>-5.3639201</td></tr>\n",
       "\t<tr><th scope=row>88</th><td>22.6353778</td></tr>\n",
       "\t<tr><th scope=row>4</th><td>-0.2611468</td></tr>\n",
       "\t<tr><th scope=row>94</th><td>22.7106939</td></tr>\n",
       "\t<tr><th scope=row>38</th><td>19.3836289</td></tr>\n",
       "\t<tr><th scope=row>63</th><td>14.8495137</td></tr>\n",
       "\t<tr><th scope=row>56</th><td>21.5395070</td></tr>\n",
       "\t<tr><th scope=row>170</th><td>28.2653638</td></tr>\n",
       "\t<tr><th scope=row>117</th><td>21.3888748</td></tr>\n",
       "\t<tr><th scope=row>71</th><td>19.4589450</td></tr>\n",
       "\t<tr><th scope=row>136</th><td>17.1165713</td></tr>\n",
       "\t<tr><th scope=row>152</th><td>18.0259464</td></tr>\n",
       "</tbody>\n",
       "</table>\n"
      ],
      "text/latex": [
       "A matrix: 34 × 1 of type dbl\n",
       "\\begin{tabular}{r|l}\n",
       "  & s0\\\\\n",
       "\\hline\n",
       "\t92 & 23.6559324\\\\\n",
       "\t146 & 25.9229901\\\\\n",
       "\t112 & 23.6559324\\\\\n",
       "\t62 & 24.8271193\\\\\n",
       "\t11 &  7.9730247\\\\\n",
       "\t57 & 16.0207005\\\\\n",
       "\t66 & 22.5600617\\\\\n",
       "\t130 & 27.1694930\\\\\n",
       "\t97 & 26.0736223\\\\\n",
       "\t91 & 22.7465573\\\\\n",
       "\t30 & 23.5053002\\\\\n",
       "\t114 & 28.6024916\\\\\n",
       "\t8 &  7.6358969\\\\\n",
       "\t9 &  6.6153422\\\\\n",
       "\t128 & 24.9024354\\\\\n",
       "\t155 & 26.3354340\\\\\n",
       "\t157 & 22.7106939\\\\\n",
       "\t5 & -8.8774806\\\\\n",
       "\t95 & 23.8065646\\\\\n",
       "\t32 & 15.6082566\\\\\n",
       "\t96 & 28.1900477\\\\\n",
       "\t50 & 10.1289028\\\\\n",
       "\t12 & -5.3639201\\\\\n",
       "\t88 & 22.6353778\\\\\n",
       "\t4 & -0.2611468\\\\\n",
       "\t94 & 22.7106939\\\\\n",
       "\t38 & 19.3836289\\\\\n",
       "\t63 & 14.8495137\\\\\n",
       "\t56 & 21.5395070\\\\\n",
       "\t170 & 28.2653638\\\\\n",
       "\t117 & 21.3888748\\\\\n",
       "\t71 & 19.4589450\\\\\n",
       "\t136 & 17.1165713\\\\\n",
       "\t152 & 18.0259464\\\\\n",
       "\\end{tabular}\n"
      ],
      "text/markdown": [
       "\n",
       "A matrix: 34 × 1 of type dbl\n",
       "\n",
       "| <!--/--> | s0 |\n",
       "|---|---|\n",
       "| 92 | 23.6559324 |\n",
       "| 146 | 25.9229901 |\n",
       "| 112 | 23.6559324 |\n",
       "| 62 | 24.8271193 |\n",
       "| 11 |  7.9730247 |\n",
       "| 57 | 16.0207005 |\n",
       "| 66 | 22.5600617 |\n",
       "| 130 | 27.1694930 |\n",
       "| 97 | 26.0736223 |\n",
       "| 91 | 22.7465573 |\n",
       "| 30 | 23.5053002 |\n",
       "| 114 | 28.6024916 |\n",
       "| 8 |  7.6358969 |\n",
       "| 9 |  6.6153422 |\n",
       "| 128 | 24.9024354 |\n",
       "| 155 | 26.3354340 |\n",
       "| 157 | 22.7106939 |\n",
       "| 5 | -8.8774806 |\n",
       "| 95 | 23.8065646 |\n",
       "| 32 | 15.6082566 |\n",
       "| 96 | 28.1900477 |\n",
       "| 50 | 10.1289028 |\n",
       "| 12 | -5.3639201 |\n",
       "| 88 | 22.6353778 |\n",
       "| 4 | -0.2611468 |\n",
       "| 94 | 22.7106939 |\n",
       "| 38 | 19.3836289 |\n",
       "| 63 | 14.8495137 |\n",
       "| 56 | 21.5395070 |\n",
       "| 170 | 28.2653638 |\n",
       "| 117 | 21.3888748 |\n",
       "| 71 | 19.4589450 |\n",
       "| 136 | 17.1165713 |\n",
       "| 152 | 18.0259464 |\n",
       "\n"
      ],
      "text/plain": [
       "    s0        \n",
       "92  23.6559324\n",
       "146 25.9229901\n",
       "112 23.6559324\n",
       "62  24.8271193\n",
       "11   7.9730247\n",
       "57  16.0207005\n",
       "66  22.5600617\n",
       "130 27.1694930\n",
       "97  26.0736223\n",
       "91  22.7465573\n",
       "30  23.5053002\n",
       "114 28.6024916\n",
       "8    7.6358969\n",
       "9    6.6153422\n",
       "128 24.9024354\n",
       "155 26.3354340\n",
       "157 22.7106939\n",
       "5   -8.8774806\n",
       "95  23.8065646\n",
       "32  15.6082566\n",
       "96  28.1900477\n",
       "50  10.1289028\n",
       "12  -5.3639201\n",
       "88  22.6353778\n",
       "4   -0.2611468\n",
       "94  22.7106939\n",
       "38  19.3836289\n",
       "63  14.8495137\n",
       "56  21.5395070\n",
       "170 28.2653638\n",
       "117 21.3888748\n",
       "71  19.4589450\n",
       "136 17.1165713\n",
       "152 18.0259464"
      ]
     },
     "metadata": {},
     "output_type": "display_data"
    }
   ],
   "source": [
    "preds_ridge #our DIEBLS predictions"
   ]
  },
  {
   "cell_type": "markdown",
   "metadata": {},
   "source": [
    "### LASSO"
   ]
  },
  {
   "cell_type": "markdown",
   "metadata": {},
   "source": [
    "Let's run a LASSO model. It will be interesting to see if it reduces FARM to 0 for later analysis when we do model accuracy tests. "
   ]
  },
  {
   "cell_type": "code",
   "execution_count": 187,
   "metadata": {},
   "outputs": [],
   "source": [
    "lambdas = 10^seq(6, -6, by = -.1) ##same lambdas\n",
    "set.seed(0) ##same seed\n",
    "lasso_cv = cv.glmnet(as.matrix(subset(train_set_fill, select = -c(DIEBLS))), as.matrix(train_set_fill$DIEBLS), alpha = 1, lambda  = lambdas)"
   ]
  },
  {
   "cell_type": "code",
   "execution_count": 188,
   "metadata": {},
   "outputs": [
    {
     "data": {
      "text/html": [
       "0.398107170553497"
      ],
      "text/latex": [
       "0.398107170553497"
      ],
      "text/markdown": [
       "0.398107170553497"
      ],
      "text/plain": [
       "[1] 0.3981072"
      ]
     },
     "metadata": {},
     "output_type": "display_data"
    }
   ],
   "source": [
    "lasso_cv$lambda.min"
   ]
  },
  {
   "cell_type": "code",
   "execution_count": 189,
   "metadata": {},
   "outputs": [],
   "source": [
    "set.seed(0)\n",
    "lasso_fit =  glmnet(as.matrix(subset(train_set_fill, select = -c(DIEBLS))),as.matrix(train_set_fill$DIEBLS), alpha = 1, lambda = lasso_cv$lambda.min)"
   ]
  },
  {
   "cell_type": "code",
   "execution_count": 190,
   "metadata": {},
   "outputs": [],
   "source": [
    "## GEt RSS/RSE"
   ]
  },
  {
   "cell_type": "code",
   "execution_count": 191,
   "metadata": {},
   "outputs": [],
   "source": [
    "lass_fit_coef =  coef(lasso_fit) "
   ]
  },
  {
   "cell_type": "code",
   "execution_count": 192,
   "metadata": {},
   "outputs": [
    {
     "data": {
      "text/plain": [
       "4 x 1 sparse Matrix of class \"dgCMatrix\"\n",
       "                    s0\n",
       "(Intercept) -17.022647\n",
       "R.SCORE       1.098742\n",
       "L.SCORE       1.172488\n",
       "FARM_BIN      .       "
      ]
     },
     "metadata": {},
     "output_type": "display_data"
    }
   ],
   "source": [
    "lass_fit_coef #FARM reduced to 0"
   ]
  },
  {
   "cell_type": "code",
   "execution_count": 193,
   "metadata": {},
   "outputs": [],
   "source": [
    "preds_lasso = predict(lasso_fit, as.matrix(subset(test_set_fill, select = -c(DIEBLS))))\n",
    "RSS_las = (as.vector(preds_lasso) - test_set_fill$DIEBLS)%*%(as.vector(preds_lasso)-test_set_fill$DIEBLS)\n",
    "TSS_las = (test_set_fill$DIEBLS - mean(test_set_fill$DIEBLS))%*%(test_set_fill$DIEBLS- mean(test_set_fill$DIEBLS))\n",
    "R2_las= 1 - RSS_las/TSS_las\n",
    "RSE_las = sqrt(RSS_las/(length(preds_lasso)-length(coefficients(lasso_fit)-1)))\n",
    "MSE_las = RSS_las/length(preds_lasso)"
   ]
  },
  {
   "cell_type": "code",
   "execution_count": 194,
   "metadata": {},
   "outputs": [],
   "source": [
    "lasso_stats = c(RSS_las, TSS_las, R2_las, RSE_las, MSE_las) "
   ]
  },
  {
   "cell_type": "code",
   "execution_count": 195,
   "metadata": {},
   "outputs": [
    {
     "data": {
      "text/html": [
       "<style>\n",
       ".list-inline {list-style: none; margin:0; padding: 0}\n",
       ".list-inline>li {display: inline-block}\n",
       ".list-inline>li:not(:last-child)::after {content: \"\\00b7\"; padding: 0 .5ex}\n",
       "</style>\n",
       "<ol class=list-inline><li>2851.53438818623</li><li>5824.5</li><li>0.510424175777109</li><li>9.74941774019733</li><li>83.8686584760656</li></ol>\n"
      ],
      "text/latex": [
       "\\begin{enumerate*}\n",
       "\\item 2851.53438818623\n",
       "\\item 5824.5\n",
       "\\item 0.510424175777109\n",
       "\\item 9.74941774019733\n",
       "\\item 83.8686584760656\n",
       "\\end{enumerate*}\n"
      ],
      "text/markdown": [
       "1. 2851.53438818623\n",
       "2. 5824.5\n",
       "3. 0.510424175777109\n",
       "4. 9.74941774019733\n",
       "5. 83.8686584760656\n",
       "\n",
       "\n"
      ],
      "text/plain": [
       "[1] 2851.5343882 5824.5000000    0.5104242    9.7494177   83.8686585"
      ]
     },
     "metadata": {},
     "output_type": "display_data"
    }
   ],
   "source": [
    "lasso_stats ##R2 still around 51%"
   ]
  },
  {
   "cell_type": "markdown",
   "metadata": {},
   "source": [
    "### Test Results"
   ]
  },
  {
   "cell_type": "markdown",
   "metadata": {},
   "source": [
    "Create a results data frame for all test scores"
   ]
  },
  {
   "cell_type": "code",
   "execution_count": 196,
   "metadata": {},
   "outputs": [],
   "source": [
    "results = data.frame(full_stats, ridge_stats, lasso_stats)"
   ]
  },
  {
   "cell_type": "code",
   "execution_count": 197,
   "metadata": {},
   "outputs": [],
   "source": [
    "rownames(results) <- c(\"RSS\", \"TSS\", \"R2\", \"RSE\", \"MSE\")"
   ]
  },
  {
   "cell_type": "code",
   "execution_count": 198,
   "metadata": {},
   "outputs": [
    {
     "data": {
      "text/html": [
       "<table>\n",
       "<caption>A data.frame: 5 × 3</caption>\n",
       "<thead>\n",
       "\t<tr><th></th><th scope=col>full_stats</th><th scope=col>ridge_stats</th><th scope=col>lasso_stats</th></tr>\n",
       "\t<tr><th></th><th scope=col>&lt;dbl&gt;</th><th scope=col>&lt;dbl&gt;</th><th scope=col>&lt;dbl&gt;</th></tr>\n",
       "</thead>\n",
       "<tbody>\n",
       "\t<tr><th scope=row>RSS</th><td>2860.4747198</td><td>2853.0415328</td><td>2851.5343882</td></tr>\n",
       "\t<tr><th scope=row>TSS</th><td>5824.5000000</td><td>5824.5000000</td><td>5824.5000000</td></tr>\n",
       "\t<tr><th scope=row>R2</th><td>   0.5088892</td><td>   0.5101654</td><td>   0.5104242</td></tr>\n",
       "\t<tr><th scope=row>RSE</th><td>   9.7646893</td><td>   9.7519939</td><td>   9.7494177</td></tr>\n",
       "\t<tr><th scope=row>MSE</th><td>  84.1316094</td><td>  83.9129863</td><td>  83.8686585</td></tr>\n",
       "</tbody>\n",
       "</table>\n"
      ],
      "text/latex": [
       "A data.frame: 5 × 3\n",
       "\\begin{tabular}{r|lll}\n",
       "  & full\\_stats & ridge\\_stats & lasso\\_stats\\\\\n",
       "  & <dbl> & <dbl> & <dbl>\\\\\n",
       "\\hline\n",
       "\tRSS & 2860.4747198 & 2853.0415328 & 2851.5343882\\\\\n",
       "\tTSS & 5824.5000000 & 5824.5000000 & 5824.5000000\\\\\n",
       "\tR2 &    0.5088892 &    0.5101654 &    0.5104242\\\\\n",
       "\tRSE &    9.7646893 &    9.7519939 &    9.7494177\\\\\n",
       "\tMSE &   84.1316094 &   83.9129863 &   83.8686585\\\\\n",
       "\\end{tabular}\n"
      ],
      "text/markdown": [
       "\n",
       "A data.frame: 5 × 3\n",
       "\n",
       "| <!--/--> | full_stats &lt;dbl&gt; | ridge_stats &lt;dbl&gt; | lasso_stats &lt;dbl&gt; |\n",
       "|---|---|---|---|\n",
       "| RSS | 2860.4747198 | 2853.0415328 | 2851.5343882 |\n",
       "| TSS | 5824.5000000 | 5824.5000000 | 5824.5000000 |\n",
       "| R2 |    0.5088892 |    0.5101654 |    0.5104242 |\n",
       "| RSE |    9.7646893 |    9.7519939 |    9.7494177 |\n",
       "| MSE |   84.1316094 |   83.9129863 |   83.8686585 |\n",
       "\n"
      ],
      "text/plain": [
       "    full_stats   ridge_stats  lasso_stats \n",
       "RSS 2860.4747198 2853.0415328 2851.5343882\n",
       "TSS 5824.5000000 5824.5000000 5824.5000000\n",
       "R2     0.5088892    0.5101654    0.5104242\n",
       "RSE    9.7646893    9.7519939    9.7494177\n",
       "MSE   84.1316094   83.9129863   83.8686585"
      ]
     },
     "metadata": {},
     "output_type": "display_data"
    }
   ],
   "source": [
    "results ##super similar (TSS is obviously the same for all), although the R2, MSE, RSS, RSE are just marginally better"
   ]
  },
  {
   "cell_type": "markdown",
   "metadata": {},
   "source": [
    "Create data frame with all coefficients"
   ]
  },
  {
   "cell_type": "code",
   "execution_count": 199,
   "metadata": {},
   "outputs": [],
   "source": [
    "results = data.frame(as.vector(full_fit_coef), as.vector(rid_fit_coef), as.vector(lass_fit_coef))"
   ]
  },
  {
   "cell_type": "markdown",
   "metadata": {},
   "source": [
    "colnames(results) = c(\"full\", \"ridge\",\"lasso\")\n",
    "rownames(results) = c(\"Int\", \"RSCORE\", 'LSCORE', 'FARMBIN')"
   ]
  },
  {
   "cell_type": "code",
   "execution_count": 200,
   "metadata": {},
   "outputs": [
    {
     "data": {
      "text/html": [
       "<table>\n",
       "<caption>A data.frame: 4 × 3</caption>\n",
       "<thead>\n",
       "\t<tr><th scope=col>as.vector.full_fit_coef.</th><th scope=col>as.vector.rid_fit_coef.</th><th scope=col>as.vector.lass_fit_coef.</th></tr>\n",
       "\t<tr><th scope=col>&lt;dbl&gt;</th><th scope=col>&lt;dbl&gt;</th><th scope=col>&lt;dbl&gt;</th></tr>\n",
       "</thead>\n",
       "<tbody>\n",
       "\t<tr><td>-18.91319055</td><td>-16.8139770</td><td>-17.022647</td></tr>\n",
       "\t<tr><td>  1.15634800</td><td>  1.0958708</td><td>  1.098742</td></tr>\n",
       "\t<tr><td>  1.23235286</td><td>  1.1711869</td><td>  1.172488</td></tr>\n",
       "\t<tr><td>  0.01713377</td><td> -0.2618117</td><td>  0.000000</td></tr>\n",
       "</tbody>\n",
       "</table>\n"
      ],
      "text/latex": [
       "A data.frame: 4 × 3\n",
       "\\begin{tabular}{lll}\n",
       " as.vector.full\\_fit\\_coef. & as.vector.rid\\_fit\\_coef. & as.vector.lass\\_fit\\_coef.\\\\\n",
       " <dbl> & <dbl> & <dbl>\\\\\n",
       "\\hline\n",
       "\t -18.91319055 & -16.8139770 & -17.022647\\\\\n",
       "\t   1.15634800 &   1.0958708 &   1.098742\\\\\n",
       "\t   1.23235286 &   1.1711869 &   1.172488\\\\\n",
       "\t   0.01713377 &  -0.2618117 &   0.000000\\\\\n",
       "\\end{tabular}\n"
      ],
      "text/markdown": [
       "\n",
       "A data.frame: 4 × 3\n",
       "\n",
       "| as.vector.full_fit_coef. &lt;dbl&gt; | as.vector.rid_fit_coef. &lt;dbl&gt; | as.vector.lass_fit_coef. &lt;dbl&gt; |\n",
       "|---|---|---|\n",
       "| -18.91319055 | -16.8139770 | -17.022647 |\n",
       "|   1.15634800 |   1.0958708 |   1.098742 |\n",
       "|   1.23235286 |   1.1711869 |   1.172488 |\n",
       "|   0.01713377 |  -0.2618117 |   0.000000 |\n",
       "\n"
      ],
      "text/plain": [
       "  as.vector.full_fit_coef. as.vector.rid_fit_coef. as.vector.lass_fit_coef.\n",
       "1 -18.91319055             -16.8139770             -17.022647              \n",
       "2   1.15634800               1.0958708               1.098742              \n",
       "3   1.23235286               1.1711869               1.172488              \n",
       "4   0.01713377              -0.2618117               0.000000              "
      ]
     },
     "metadata": {},
     "output_type": "display_data"
    }
   ],
   "source": [
    "results"
   ]
  },
  {
   "cell_type": "markdown",
   "metadata": {},
   "source": [
    "### Testing on Marginal Effect/Model Accuracy for FARM"
   ]
  },
  {
   "cell_type": "markdown",
   "metadata": {},
   "source": [
    "We already know LASSO reduced FARM to 0. Our test on marginal effect can be found in summary tables. We can then compared accuracy between models within full/ridge. If we were to compute marginal manually for both models, our hypotheses are as follows: <br>\n",
    "\n",
    "$H_0: \\beta_{FARM} = 0$ versus $H_1: \\beta_{FARM} \\neq 0$. "
   ]
  },
  {
   "cell_type": "markdown",
   "metadata": {},
   "source": [
    "For full model, we have $\\hat{\\sigma} = RSE_{full} = 9.4546198$ and for ridge model, we have $\\hat{\\sigma} = RSE_{ridge} = 9.4423275$. In both cases, we need to compute $\\sqrt{\\nu_j}$ which is the third diagonal entry in $(X^{T}X)^{-1}$, our train features matrix with added intercept.Our test statistic for both models will be $t = \\frac{\\hat{\\beta}_{FARM}}{\\sqrt{\\nu_{FARM}}RSE} \\sim t_{n-p-1} = t_{136-3-1} = t_{132}$. But instead of doing this for the full, we can use summary."
   ]
  },
  {
   "cell_type": "code",
   "execution_count": 201,
   "metadata": {},
   "outputs": [
    {
     "data": {
      "text/plain": [
       "\n",
       "Call:\n",
       "lm(formula = DIEBLS ~ ., data = train_set_fill, x = TRUE, y = TRUE)\n",
       "\n",
       "Residuals:\n",
       "     Min       1Q   Median       3Q      Max \n",
       "-26.5653  -6.3297   0.4297   6.5737  22.2955 \n",
       "\n",
       "Coefficients:\n",
       "             Estimate Std. Error t value Pr(>|t|)    \n",
       "(Intercept) -18.91319    4.01468  -4.711 6.16e-06 ***\n",
       "R.SCORE       1.15635    0.23264   4.971 2.03e-06 ***\n",
       "L.SCORE       1.23235    0.23597   5.223 6.69e-07 ***\n",
       "FARM_BIN      0.01713    1.70673   0.010    0.992    \n",
       "---\n",
       "Signif. codes:  0 '***' 0.001 '**' 0.01 '*' 0.05 '.' 0.1 ' ' 1\n",
       "\n",
       "Residual standard error: 9.342 on 132 degrees of freedom\n",
       "Multiple R-squared:  0.496,\tAdjusted R-squared:  0.4846 \n",
       "F-statistic: 43.31 on 3 and 132 DF,  p-value: < 2.2e-16\n"
      ]
     },
     "metadata": {},
     "output_type": "display_data"
    }
   ],
   "source": [
    "summary(full_fit)"
   ]
  },
  {
   "cell_type": "markdown",
   "metadata": {},
   "source": [
    "Since $.992 > .05$ we fail the reject the hypothesis that FARMBIN is $0$. Let's now compute the test stat for ridge. "
   ]
  },
  {
   "cell_type": "code",
   "execution_count": 202,
   "metadata": {},
   "outputs": [],
   "source": [
    "features = subset(train_set_fill, select = -c(DIEBLS))"
   ]
  },
  {
   "cell_type": "code",
   "execution_count": 203,
   "metadata": {},
   "outputs": [],
   "source": [
    "features_inter = cbind(intercept = rep(1,136), features)"
   ]
  },
  {
   "cell_type": "code",
   "execution_count": 204,
   "metadata": {},
   "outputs": [
    {
     "data": {
      "text/html": [
       "<table>\n",
       "<caption>A matrix: 4 × 4 of type dbl</caption>\n",
       "<thead>\n",
       "\t<tr><th></th><th scope=col>intercept</th><th scope=col>R.SCORE</th><th scope=col>L.SCORE</th><th scope=col>FARM_BIN</th></tr>\n",
       "</thead>\n",
       "<tbody>\n",
       "\t<tr><th scope=row>intercept</th><td> 0.184664153</td><td>-0.0045825060</td><td>-0.0051293269</td><td>-0.0397955442</td></tr>\n",
       "\t<tr><th scope=row>R.SCORE</th><td>-0.004582506</td><td> 0.0006200687</td><td>-0.0003491395</td><td> 0.0010932296</td></tr>\n",
       "\t<tr><th scope=row>L.SCORE</th><td>-0.005129327</td><td>-0.0003491395</td><td> 0.0006379494</td><td> 0.0002767817</td></tr>\n",
       "\t<tr><th scope=row>FARM_BIN</th><td>-0.039795544</td><td> 0.0010932296</td><td> 0.0002767817</td><td> 0.0333741279</td></tr>\n",
       "</tbody>\n",
       "</table>\n"
      ],
      "text/latex": [
       "A matrix: 4 × 4 of type dbl\n",
       "\\begin{tabular}{r|llll}\n",
       "  & intercept & R.SCORE & L.SCORE & FARM\\_BIN\\\\\n",
       "\\hline\n",
       "\tintercept &  0.184664153 & -0.0045825060 & -0.0051293269 & -0.0397955442\\\\\n",
       "\tR.SCORE & -0.004582506 &  0.0006200687 & -0.0003491395 &  0.0010932296\\\\\n",
       "\tL.SCORE & -0.005129327 & -0.0003491395 &  0.0006379494 &  0.0002767817\\\\\n",
       "\tFARM\\_BIN & -0.039795544 &  0.0010932296 &  0.0002767817 &  0.0333741279\\\\\n",
       "\\end{tabular}\n"
      ],
      "text/markdown": [
       "\n",
       "A matrix: 4 × 4 of type dbl\n",
       "\n",
       "| <!--/--> | intercept | R.SCORE | L.SCORE | FARM_BIN |\n",
       "|---|---|---|---|---|\n",
       "| intercept |  0.184664153 | -0.0045825060 | -0.0051293269 | -0.0397955442 |\n",
       "| R.SCORE | -0.004582506 |  0.0006200687 | -0.0003491395 |  0.0010932296 |\n",
       "| L.SCORE | -0.005129327 | -0.0003491395 |  0.0006379494 |  0.0002767817 |\n",
       "| FARM_BIN | -0.039795544 |  0.0010932296 |  0.0002767817 |  0.0333741279 |\n",
       "\n"
      ],
      "text/plain": [
       "          intercept    R.SCORE       L.SCORE       FARM_BIN     \n",
       "intercept  0.184664153 -0.0045825060 -0.0051293269 -0.0397955442\n",
       "R.SCORE   -0.004582506  0.0006200687 -0.0003491395  0.0010932296\n",
       "L.SCORE   -0.005129327 -0.0003491395  0.0006379494  0.0002767817\n",
       "FARM_BIN  -0.039795544  0.0010932296  0.0002767817  0.0333741279"
      ]
     },
     "metadata": {},
     "output_type": "display_data"
    }
   ],
   "source": [
    "solve(as.matrix(t(features_inter))%*%as.matrix(features_inter))"
   ]
  },
  {
   "cell_type": "markdown",
   "metadata": {},
   "source": [
    "We retrieve the 3rd diagonal (0-3 indexing). And so we have $\\nu_{FARM} = 0.0333741279$. "
   ]
  },
  {
   "cell_type": "markdown",
   "metadata": {},
   "source": [
    "For the ridge model: "
   ]
  },
  {
   "cell_type": "code",
   "execution_count": 207,
   "metadata": {},
   "outputs": [],
   "source": [
    "t = (-0.2618117)/(sqrt(0.0333741279)*RSE_rid)"
   ]
  },
  {
   "cell_type": "code",
   "execution_count": 208,
   "metadata": {},
   "outputs": [
    {
     "data": {
      "text/html": [
       "0.439227809270612"
      ],
      "text/latex": [
       "0.439227809270612"
      ],
      "text/markdown": [
       "0.439227809270612"
      ],
      "text/plain": [
       "[1] 0.4392278"
      ]
     },
     "metadata": {},
     "output_type": "display_data"
    }
   ],
   "source": [
    "pt(-.153224, 132)"
   ]
  },
  {
   "cell_type": "markdown",
   "metadata": {},
   "source": [
    "We fail to reject the hypothesis that FARM is 0."
   ]
  },
  {
   "cell_type": "markdown",
   "metadata": {},
   "source": [
    "### Next we compare accuracy of models on training using F-test. "
   ]
  },
  {
   "cell_type": "markdown",
   "metadata": {},
   "source": [
    "Really, we should only do this for the full model, since both ridge and lasso penalize coefficients to reduce error. We already have the full model (full_fit). Let's train another model without using FARM. "
   ]
  },
  {
   "cell_type": "code",
   "execution_count": 162,
   "metadata": {},
   "outputs": [],
   "source": [
    "fit_no_farm = lm(DIEBLS~., subset(train_set_fill, select = -c(FARM_BIN)), x = TRUE, y = TRUE)"
   ]
  },
  {
   "cell_type": "code",
   "execution_count": 163,
   "metadata": {},
   "outputs": [],
   "source": [
    "rss_no_farm = sum((residuals(fit_no_farm))^2)"
   ]
  },
  {
   "cell_type": "code",
   "execution_count": 164,
   "metadata": {},
   "outputs": [
    {
     "data": {
      "text/html": [
       "11521.0642338322"
      ],
      "text/latex": [
       "11521.0642338322"
      ],
      "text/markdown": [
       "11521.0642338322"
      ],
      "text/plain": [
       "[1] 11521.06"
      ]
     },
     "metadata": {},
     "output_type": "display_data"
    }
   ],
   "source": [
    "rss_no_farm"
   ]
  },
  {
   "cell_type": "code",
   "execution_count": 180,
   "metadata": {},
   "outputs": [],
   "source": [
    "fit_full = lm(DIEBLS~., train_set_fill, x = TRUE, y = TRUE)"
   ]
  },
  {
   "cell_type": "code",
   "execution_count": 181,
   "metadata": {},
   "outputs": [],
   "source": [
    "rss_full = sum((residuals(fit_full))^2)"
   ]
  },
  {
   "cell_type": "code",
   "execution_count": 182,
   "metadata": {},
   "outputs": [
    {
     "data": {
      "text/html": [
       "11521.0554376173"
      ],
      "text/latex": [
       "11521.0554376173"
      ],
      "text/markdown": [
       "11521.0554376173"
      ],
      "text/plain": [
       "[1] 11521.06"
      ]
     },
     "metadata": {},
     "output_type": "display_data"
    }
   ],
   "source": [
    "rss_full"
   ]
  },
  {
   "cell_type": "code",
   "execution_count": 183,
   "metadata": {},
   "outputs": [],
   "source": [
    "# follows f_(p-po,n-p-1) = f_(1,132) distribution\n",
    "F = (rss_no_farm - rss_full)/(rss_full/(132))"
   ]
  },
  {
   "cell_type": "code",
   "execution_count": 185,
   "metadata": {},
   "outputs": [
    {
     "data": {
      "text/html": [
       "0.000985799773244089"
      ],
      "text/latex": [
       "0.000985799773244089"
      ],
      "text/markdown": [
       "0.000985799773244089"
      ],
      "text/plain": [
       "[1] 0.0009857998"
      ]
     },
     "metadata": {},
     "output_type": "display_data"
    }
   ],
   "source": [
    "qf(.025,1,132, lower = TRUE)"
   ]
  },
  {
   "cell_type": "markdown",
   "metadata": {},
   "source": [
    "We keep FARM BIN and REJECT the null, since $.0001 < .000985$."
   ]
  },
  {
   "cell_type": "code",
   "execution_count": 186,
   "metadata": {},
   "outputs": [
    {
     "data": {
      "text/html": [
       "<table>\n",
       "<caption>A anova: 2 × 6</caption>\n",
       "<thead>\n",
       "\t<tr><th></th><th scope=col>Res.Df</th><th scope=col>RSS</th><th scope=col>Df</th><th scope=col>Sum of Sq</th><th scope=col>F</th><th scope=col>Pr(&gt;F)</th></tr>\n",
       "\t<tr><th></th><th scope=col>&lt;dbl&gt;</th><th scope=col>&lt;dbl&gt;</th><th scope=col>&lt;dbl&gt;</th><th scope=col>&lt;dbl&gt;</th><th scope=col>&lt;dbl&gt;</th><th scope=col>&lt;dbl&gt;</th></tr>\n",
       "</thead>\n",
       "<tbody>\n",
       "\t<tr><th scope=row>1</th><td>133</td><td>11521.06</td><td>NA</td><td>         NA</td><td>          NA</td><td>       NA</td></tr>\n",
       "\t<tr><th scope=row>2</th><td>132</td><td>11521.06</td><td> 1</td><td>0.008796215</td><td>0.0001007807</td><td>0.9920054</td></tr>\n",
       "</tbody>\n",
       "</table>\n"
      ],
      "text/latex": [
       "A anova: 2 × 6\n",
       "\\begin{tabular}{r|llllll}\n",
       "  & Res.Df & RSS & Df & Sum of Sq & F & Pr(>F)\\\\\n",
       "  & <dbl> & <dbl> & <dbl> & <dbl> & <dbl> & <dbl>\\\\\n",
       "\\hline\n",
       "\t1 & 133 & 11521.06 & NA &          NA &           NA &        NA\\\\\n",
       "\t2 & 132 & 11521.06 &  1 & 0.008796215 & 0.0001007807 & 0.9920054\\\\\n",
       "\\end{tabular}\n"
      ],
      "text/markdown": [
       "\n",
       "A anova: 2 × 6\n",
       "\n",
       "| <!--/--> | Res.Df &lt;dbl&gt; | RSS &lt;dbl&gt; | Df &lt;dbl&gt; | Sum of Sq &lt;dbl&gt; | F &lt;dbl&gt; | Pr(&gt;F) &lt;dbl&gt; |\n",
       "|---|---|---|---|---|---|---|\n",
       "| 1 | 133 | 11521.06 | NA |          NA |           NA |        NA |\n",
       "| 2 | 132 | 11521.06 |  1 | 0.008796215 | 0.0001007807 | 0.9920054 |\n",
       "\n"
      ],
      "text/plain": [
       "  Res.Df RSS      Df Sum of Sq   F            Pr(>F)   \n",
       "1 133    11521.06 NA          NA           NA        NA\n",
       "2 132    11521.06  1 0.008796215 0.0001007807 0.9920054"
      ]
     },
     "metadata": {},
     "output_type": "display_data"
    }
   ],
   "source": [
    "anova(fit_no_farm, fit_full)"
   ]
  }
 ],
 "metadata": {
  "kernelspec": {
   "display_name": "R",
   "language": "R",
   "name": "ir"
  },
  "language_info": {
   "codemirror_mode": "r",
   "file_extension": ".r",
   "mimetype": "text/x-r-source",
   "name": "R",
   "pygments_lexer": "r",
   "version": "4.0.3"
  }
 },
 "nbformat": 4,
 "nbformat_minor": 4
}
